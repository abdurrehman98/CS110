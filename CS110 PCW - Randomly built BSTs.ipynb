{
 "cells": [
  {
   "cell_type": "markdown",
   "metadata": {},
   "source": [
    "Before you turn this problem in, make sure everything runs as expected. First, **restart the kernel** (in the menubar, select Kernel$\\rightarrow$Restart) and then **run all cells** (in the menubar, select Cell$\\rightarrow$Run All).\n",
    "\n",
    "Note that this Pre-class Work is estimated to take **43 minutes**.\n",
    "\n",
    "Make sure you fill in any place that says `YOUR CODE HERE` or \"YOUR ANSWER HERE\", as well as your name and collaborators below:"
   ]
  },
  {
   "cell_type": "code",
   "execution_count": null,
   "metadata": {},
   "outputs": [],
   "source": [
    "NAME = \"MUHAMMAD ABDURREHMAN ASIF\"\n",
    "COLLABORATORS = \"\""
   ]
  },
  {
   "cell_type": "markdown",
   "metadata": {},
   "source": [
    "---"
   ]
  },
  {
   "cell_type": "markdown",
   "metadata": {
    "deletable": false,
    "editable": false,
    "nbgrader": {
     "checksum": "53f91bdb5f2f106f06872a2a6e7a98f5",
     "grade": false,
     "grade_id": "cell-bd90321d310ba2d4",
     "locked": true,
     "schema_version": 1,
     "solution": false
    }
   },
   "source": [
    "# CS110 Pre-class Work - Randomly built BSTs\n",
    "\n",
    "## Part A. Average number of comparisons when searching"
   ]
  },
  {
   "cell_type": "markdown",
   "metadata": {
    "deletable": false,
    "editable": false,
    "nbgrader": {
     "checksum": "c1c60903cd4344daf3877a1a656e283e",
     "grade": false,
     "grade_id": "cell-9e8b16db9d917705",
     "locked": true,
     "schema_version": 1,
     "solution": false
    }
   },
   "source": [
    "## Question 0 [time estimate: 1 minute] \n",
    "\n",
    "Paste in the working code from last session's PCW for the class Node, which contains the methods for insertion, searching, and deletion. \n",
    "\n"
   ]
  },
  {
   "cell_type": "code",
   "execution_count": 13,
   "metadata": {
    "deletable": false,
    "nbgrader": {
     "checksum": "525698a22b0cee9c4cb74be2011232de",
     "grade": true,
     "grade_id": "cell-1eadb1312ac0519d",
     "locked": false,
     "points": 0,
     "schema_version": 1,
     "solution": true
    }
   },
   "outputs": [],
   "source": [
    "##\n",
    "class Node:\n",
    "    def __init__(self, val):\n",
    "        self.l_child = None\n",
    "        self.r_child = None\n",
    "        self.parent = None\n",
    "        self.data = val\n",
    "\n",
    "    def insert(self, node):\n",
    "        \"\"\"inserts a node into a *non-empty* tree rooted at the node, returns\n",
    "        the root\"\"\"\n",
    "        if self.data > node.data:\n",
    "            if self.l_child is None:\n",
    "                self.l_child = node\n",
    "                node.parent = self\n",
    "            else:\n",
    "                self.l_child.insert(node)\n",
    "        else:\n",
    "            if self.r_child is None:\n",
    "                self.r_child = node\n",
    "                node.parent = self\n",
    "            else:\n",
    "                self.r_child.insert(node)\n",
    "        return self\n",
    "    \n",
    "    def minimum(self):\n",
    "        node = self\n",
    "        while node.l_child != None:\n",
    "            node = node.l_child\n",
    "        return node\n",
    "\n",
    "    def search_data(self, value):\n",
    "        \"\"\"searches a *non-empty* tree rooted at the node for a node with\n",
    "        data = value, returns the value if found, None otherwise\"\"\"\n",
    "        node = self.search(value)\n",
    "        if node:\n",
    "            return node.data\n",
    "        else:\n",
    "            return node\n",
    "        \n",
    "    def to_string(self): \n",
    "        print('self.data', self.data)\n",
    "        root=self\n",
    "        if not root: \n",
    "            return 'Nil'\n",
    "        else: \n",
    "            r = root.r_child.to_string() if root.r_child else 'Nil'\n",
    "            l = root.l_child.to_string() if root.l_child else 'Nil'\n",
    "        return 'Node(' + str(root.data) + ' L: ' + l + ' R: ' + r + ')'\n",
    "    \n",
    "    \n",
    "    \n",
    "    def search(self, value):\n",
    "        node = self\n",
    "        if node == None or value == node.data:   #returns root node in required or empty case\n",
    "            return node\n",
    "        \n",
    "        elif value < node.data and node.l_child != None: #recursively calls method on left side\n",
    "            return node.l_child.search(value)\n",
    "        \n",
    "        elif value > node.data and node.r_child != None: #recursively searches right side\n",
    "            return node.r_child.search(value) \n",
    "        return None \n",
    "  \n",
    "\n",
    "    def transplant(self, u, v): #assisting with deleting\n",
    "        node = self             #assign node as the self val\n",
    "        if u.parent == None:    #edge case\n",
    "            node = v\n",
    "            \n",
    "        elif u == u.parent.l_child:  #transplants root v with root u following BST properties\n",
    "            u.parent.l_child = v\n",
    "        else: \n",
    "            u.parent.r_child = v\n",
    "        if v != None:\n",
    "            v.parent = u.parent\n",
    "        return node\n",
    "    \n",
    "    def inorder(self):\n",
    "        if self.data!=None:   #edge case\n",
    "            if self.l_child!=None:\n",
    "                self.l_child.inorder()   #verifies left side is following BST properties\n",
    "            if self.r_child!=None: \n",
    "                self.r_child.inorder()   #verifies right side is following BST properties\n",
    "\n",
    "    def delete(self, value):\n",
    "        z = self.search(value)                    #node we wish to delete\n",
    "        if z!= None and z.l_child == None: \n",
    "            self = self.transplant(z, z.r_child)   #replaces node with right child\n",
    "        elif z!= None and z.r_child == None:\n",
    "            self = self.transplant(z,z.l_child)   #if right child doesn't exist, replace with left child\n",
    "        else:\n",
    "            y = z.r_child.minimum()               #find successor\n",
    "            if y.parent != z:\n",
    "                self = self.transplant(y,y.r_child)   #in the case of having both child nodes\n",
    "                y.r_child = z.r_child\n",
    "                y.r_child.parent = y\n",
    "            self = self.transplant(z,y)\n",
    "            y.l_child = z.l_child\n",
    "            y.l_child.parent = y\n",
    "        return self\n"
   ]
  },
  {
   "cell_type": "markdown",
   "metadata": {
    "deletable": false,
    "editable": false,
    "nbgrader": {
     "checksum": "a79cbf2799a45e4c351c9ed9f600c3b5",
     "grade": false,
     "grade_id": "cell-d3f754a4d3637207",
     "locked": true,
     "schema_version": 1,
     "solution": false
    }
   },
   "source": [
    "\n",
    "## Question 1 [time estimate: 5 minutes]\n",
    "\n",
    "Complete the following function that computes the depth of a given node in a BST identified by its root. Use the test below to make sure your code works properly (Optional: Why does the test work?)"
   ]
  },
  {
   "cell_type": "code",
   "execution_count": 18,
   "metadata": {
    "deletable": false,
    "nbgrader": {
     "checksum": "6040a364ba7372adc7f259a4b0d875fc",
     "grade": false,
     "grade_id": "cell-cd10e9a432673bd9",
     "locked": false,
     "schema_version": 1,
     "solution": true
    }
   },
   "outputs": [],
   "source": [
    "def depth(root, node):\n",
    "    \"\"\"\n",
    "    Finds the depth of the node in a BST. depth of root is 0.\n",
    "\n",
    "    Parameters\n",
    "    ----------\n",
    "    root \n",
    "        A node, the root of the BST\n",
    "    node \n",
    "        A node to compute the depth of\n",
    "\n",
    "    Returns\n",
    "    -------\n",
    "    d : int \n",
    "        Distance from node to root\n",
    "        \n",
    "    \"\"\"\n",
    "    if node == root:        #depth of root\n",
    "        return 0\n",
    "    \n",
    "    parent = node.parent    #parent node being selected\n",
    "    depth = 1               #depth if beyond the root\n",
    "    \n",
    "    while parent != root:   #while the parent is not the root\n",
    "        depth += 1          #increase in depth\n",
    "        parent = parent.parent  #parent is renamed\n",
    "        \n",
    "    return depth\n",
    "\n",
    "\n",
    "bst = \n",
    "depth()"
   ]
  },
  {
   "cell_type": "code",
   "execution_count": 92,
   "metadata": {},
   "outputs": [
    {
     "name": "stdout",
     "output_type": "stream",
     "text": [
      "self.data 15\n",
      "self.data 6\n",
      "Node(15 L: Node(6 L: Nil R: Nil) R: Nil)\n",
      "self.data 15\n",
      "self.data 18\n",
      "self.data 6\n",
      "Node(15 L: Node(6 L: Nil R: Nil) R: Node(18 L: Nil R: Nil))\n",
      "self.data 15\n",
      "self.data 18\n",
      "self.data 6\n",
      "self.data 3\n",
      "Node(15 L: Node(6 L: Node(3 L: Nil R: Nil) R: Nil) R: Node(18 L: Nil R: Nil))\n",
      "self.data 15\n",
      "self.data 18\n",
      "self.data 6\n",
      "self.data 7\n",
      "self.data 3\n",
      "Node(15 L: Node(6 L: Node(3 L: Nil R: Nil) R: Node(7 L: Nil R: Nil)) R: Node(18 L: Nil R: Nil))\n",
      "self.data 15\n",
      "self.data 18\n",
      "self.data 17\n",
      "self.data 6\n",
      "self.data 7\n",
      "self.data 3\n",
      "Node(15 L: Node(6 L: Node(3 L: Nil R: Nil) R: Node(7 L: Nil R: Nil)) R: Node(18 L: Node(17 L: Nil R: Nil) R: Nil))\n",
      "self.data 15\n",
      "self.data 18\n",
      "self.data 20\n",
      "self.data 17\n",
      "self.data 6\n",
      "self.data 7\n",
      "self.data 3\n",
      "Node(15 L: Node(6 L: Node(3 L: Nil R: Nil) R: Node(7 L: Nil R: Nil)) R: Node(18 L: Node(17 L: Nil R: Nil) R: Node(20 L: Nil R: Nil)))\n",
      "self.data 15\n",
      "self.data 18\n",
      "self.data 20\n",
      "self.data 17\n",
      "self.data 6\n",
      "self.data 7\n",
      "self.data 3\n",
      "self.data 2\n",
      "Node(15 L: Node(6 L: Node(3 L: Node(2 L: Nil R: Nil) R: Nil) R: Node(7 L: Nil R: Nil)) R: Node(18 L: Node(17 L: Nil R: Nil) R: Node(20 L: Nil R: Nil)))\n",
      "self.data 15\n",
      "self.data 18\n",
      "self.data 20\n",
      "self.data 17\n",
      "self.data 6\n",
      "self.data 7\n",
      "self.data 3\n",
      "self.data 4\n",
      "self.data 2\n",
      "Node(15 L: Node(6 L: Node(3 L: Node(2 L: Nil R: Nil) R: Node(4 L: Nil R: Nil)) R: Node(7 L: Nil R: Nil)) R: Node(18 L: Node(17 L: Nil R: Nil) R: Node(20 L: Nil R: Nil)))\n"
     ]
    }
   ],
   "source": [
    "# Testing code \n",
    "import math \n",
    "bst = None\n",
    "nodes = [Node(15), Node(6), Node(18), Node(3), Node(7), \n",
    "         Node(17), Node(20), Node(2), Node(4)]\n",
    "for node in nodes:\n",
    "    if not bst:\n",
    "        bst = node\n",
    "    else:\n",
    "        bst.insert(node)\n",
    "        print(bst.to_string())\n",
    "#        insert(bst, node)\n",
    "for i in range(len(nodes)):\n",
    "    assert(depth(bst, nodes[i]) == int(math.log(i+1,2)))\n"
   ]
  },
  {
   "cell_type": "code",
   "execution_count": null,
   "metadata": {
    "deletable": false,
    "editable": false,
    "nbgrader": {
     "checksum": "46a630a4c6307c799c44715ec3868d58",
     "grade": true,
     "grade_id": "cell-c57bc5138040968c",
     "locked": true,
     "points": 1,
     "schema_version": 1,
     "solution": false
    }
   },
   "outputs": [],
   "source": [
    "# Please ignore this cell. This cell is for us to implement the tests \n",
    "# to see if your code works properly. "
   ]
  },
  {
   "cell_type": "markdown",
   "metadata": {
    "deletable": false,
    "editable": false,
    "nbgrader": {
     "checksum": "01fa65ccabde3f2f6a8c62aca64dcd53",
     "grade": false,
     "grade_id": "cell-bd8ce3e36c859c2e",
     "locked": true,
     "schema_version": 1,
     "solution": false
    }
   },
   "source": [
    "## Question 2 [time estimate: 5 minutes]\n",
    "\n",
    "Complete the following function, making use of `depth`, to calculate the average number of comparisons required to search for a randomly chosen element of a standard BST. For example, the following tree:\n",
    "\n",
    "                            12\n",
    "                              \\\n",
    "                               14\n",
    "\n",
    "will have an average number of comparisons of 1.5. This is because 50% of the time we will be searching for 12 (1 comparison), and 50% of the time we will be searching for 14 (2 comparisons).\n",
    "\n",
    "You can test your function with this test case by constructing the tree using the code from the last session's pre-class work. \n",
    "\n",
    "\n",
    "(*Hint*: the number of comparisons required to search for node a is `depth(root, a) + 1`.) "
   ]
  },
  {
   "cell_type": "code",
   "execution_count": 40,
   "metadata": {
    "deletable": false,
    "nbgrader": {
     "checksum": "5de9ebf48a00878b4b565237c2d88265",
     "grade": false,
     "grade_id": "cell-34e9cb302f1dad00",
     "locked": false,
     "schema_version": 1,
     "solution": true
    }
   },
   "outputs": [
    {
     "data": {
      "text/plain": [
       "2.7777777777777777"
      ]
     },
     "execution_count": 40,
     "metadata": {},
     "output_type": "execute_result"
    }
   ],
   "source": [
    "def avg_cmp(bst):\n",
    "    \"\"\"\n",
    "    Finds the average number of comparisons required \n",
    "    to search for a randomly chosen element of a standard BST. \n",
    "    \n",
    "    Parameters\n",
    "    ----------\n",
    "    bst \n",
    "        A Node, the root of the BST\n",
    "    \n",
    "    Returns\n",
    "    -------\n",
    "    n : float\n",
    "        Average number of comparisons\n",
    "        \n",
    "    \"\"\"\n",
    "    #initializing starting variables\n",
    "    comparisons=[]   \n",
    "    node=bst \n",
    "    root=bst\n",
    "    \n",
    "    def total_cmp(node): \n",
    "        if node != None:  #recursion until no more nodes are left\n",
    "            \n",
    "            total_cmp(node.l_child)                  #run comparisons on left subtree\n",
    "            comparisons.append(depth(root, node)+1) \n",
    "            total_cmp(node.r_child)                  #run comparisons on right subtree\n",
    "            \n",
    "    total_cmp(node)                                  #recursive call\n",
    "    n=sum(comparisons)/len(comparisons)          #taking an average\n",
    "    \n",
    "    return n \n",
    "\n",
    "\n",
    "bst = None\n",
    "nodes = [Node(15), Node(6), Node(18), Node(3), Node(7), \n",
    "         Node(17), Node(20), Node(2), Node(4)]\n",
    "for node in nodes:\n",
    "    if not bst:\n",
    "        bst = node\n",
    "    else:\n",
    "        bst.insert(node)\n",
    "        \n",
    "avg_cmp(bst)"
   ]
  },
  {
   "cell_type": "code",
   "execution_count": null,
   "metadata": {
    "deletable": false,
    "editable": false,
    "nbgrader": {
     "checksum": "7c94a3d9e151e1a920e846ff98e118a8",
     "grade": true,
     "grade_id": "cell-dedc229bbb15d811",
     "locked": true,
     "points": 1,
     "schema_version": 1,
     "solution": false
    }
   },
   "outputs": [],
   "source": [
    "# Please ignore this cell. This cell is for us to implement the tests \n",
    "# to see if your code works properly. "
   ]
  },
  {
   "cell_type": "markdown",
   "metadata": {
    "deletable": false,
    "editable": false,
    "nbgrader": {
     "checksum": "219e1c0aea58c5955539210f5c34b000",
     "grade": false,
     "grade_id": "cell-4b7d0c4e86568346",
     "locked": true,
     "schema_version": 1,
     "solution": false
    }
   },
   "source": [
    "## Part B. Depth of randomly-built trees\n",
    "The average number of comparisons for a randomly chosen element within the tree is related to the “average depth” of the tree. Here the average depth of a tree is defined to be the average of the depths of all the nodes in the tree. \n",
    "\n",
    "## Question 1 [time estimate: 10 minutes]\n",
    "\n",
    "Complete the following function to find the maximum depth of a node in a given BST. The function must run in $\\mathrm{O}(N)$ time and use $\\mathrm{O}(h)$ space (where $N$ is the number of elements in the BST and $h$ is the height of the tree). Also, note that the maximum depth is equal to the height of the tree.\n"
   ]
  },
  {
   "cell_type": "code",
   "execution_count": 69,
   "metadata": {
    "deletable": false,
    "nbgrader": {
     "checksum": "71f602309416ba9c718f06f4cc466075",
     "grade": false,
     "grade_id": "cell-64aba253c2b1bada",
     "locked": false,
     "schema_version": 1,
     "solution": true
    }
   },
   "outputs": [
    {
     "data": {
      "text/plain": [
       "3"
      ]
     },
     "execution_count": 69,
     "metadata": {},
     "output_type": "execute_result"
    }
   ],
   "source": [
    "def max_depth(bst):\n",
    "    \"\"\"\n",
    "    Finds the maximum depth of node in a BST.\n",
    "    \n",
    "    Parameters\n",
    "    ----------\n",
    "    bst \n",
    "        A Node, the root of the BST\n",
    "    \n",
    "    Returns\n",
    "    -------\n",
    "    h : int\n",
    "        The maximum depth in a BST\n",
    "        \n",
    "    \"\"\"\n",
    "    #initializing starting variables\n",
    "    height=[-1]                      #acts as a sort of 'sentinel' since no depth can be smaller than 0\n",
    "    node = bst\n",
    "    root = bst\n",
    "    \n",
    "    def depth_counter(node): \n",
    "        if node != None:      #recursion until no more nodes are left\n",
    "            \n",
    "            depth_counter(node.l_child)         #run counter on left subtree\n",
    "            total_depth = depth(root,node)      #call depth function and name the call\n",
    "            if total_depth > max(height):       #compare the maximum height to current total depth\n",
    "                height.append(total_depth)      #replace if current height has crossed prior maximum\n",
    "                \n",
    "            depth_counter(node.r_child)         #run counter on right subtree\n",
    "            \n",
    "    depth_counter(node)                          \n",
    "    n = max(height) \n",
    "    return n\n",
    "\n",
    "\n",
    "#test\n",
    "bst = None\n",
    "nodes = [Node(15), Node(6), Node(18), Node(3), Node(7), \n",
    "         Node(17), Node(20), Node(2), Node(4)]\n",
    "for node in nodes:\n",
    "    if not bst:\n",
    "        bst = node\n",
    "    else:\n",
    "        bst.insert(node)\n",
    "        \n",
    "max_depth(bst)"
   ]
  },
  {
   "cell_type": "code",
   "execution_count": null,
   "metadata": {
    "deletable": false,
    "editable": false,
    "nbgrader": {
     "checksum": "641f559b2bcdfad11577dd6202a0e378",
     "grade": true,
     "grade_id": "cell-82deabcb0ea2e594",
     "locked": true,
     "points": 1,
     "schema_version": 1,
     "solution": false
    }
   },
   "outputs": [],
   "source": [
    "# Please ignore this cell. This cell is for us to implement the tests \n",
    "# to see if your code works properly. "
   ]
  },
  {
   "cell_type": "markdown",
   "metadata": {
    "deletable": false,
    "nbgrader": {
     "checksum": "3224988f295d6adc77632f7f4ff5c8e2",
     "grade": false,
     "grade_id": "cell-fd78b979c52b9527",
     "locked": true,
     "schema_version": 1,
     "solution": false
    }
   },
   "source": [
    "## Question 2 [time estimate: 5 minutes]\n",
    "\n",
    "Using the `avg_cmp` function, complete the following function to return the average depth of the tree. The average depth is related to the average number of comparisons as `average depth = (average comparisons - 1)`, since the root has depth zero."
   ]
  },
  {
   "cell_type": "code",
   "execution_count": 70,
   "metadata": {
    "deletable": false,
    "nbgrader": {
     "checksum": "90d64051c00f344fc6baaf3ae169c87f",
     "grade": false,
     "grade_id": "cell-347916904e4a8379",
     "locked": false,
     "schema_version": 1,
     "solution": true
    }
   },
   "outputs": [],
   "source": [
    "def avg_depth(bst):\n",
    "    \"\"\"\n",
    "    Computes the average depth of a BST\n",
    "    \n",
    "    Parameters\n",
    "    ----------\n",
    "    bst\n",
    "        A Node, root of the BST\n",
    "    \n",
    "    Returns\n",
    "    -------\n",
    "    avg_d : float\n",
    "        Average depth of the BST\n",
    "        \n",
    "    \"\"\"\n",
    "    average_depth = avg_cmp(bst) - 1\n",
    "    return average_depth"
   ]
  },
  {
   "cell_type": "code",
   "execution_count": null,
   "metadata": {
    "deletable": false,
    "editable": false,
    "nbgrader": {
     "checksum": "43da2ece71043e2a56753ec2f9b208dc",
     "grade": true,
     "grade_id": "cell-1bd7535fe6950d5f",
     "locked": true,
     "points": 1,
     "schema_version": 1,
     "solution": false
    }
   },
   "outputs": [],
   "source": [
    "# Please ignore this cell. This cell is for us to implement the tests \n",
    "# to see if your code works properly. "
   ]
  },
  {
   "cell_type": "markdown",
   "metadata": {
    "deletable": false,
    "editable": false,
    "nbgrader": {
     "checksum": "25274f67359e9c4280895dca8e0589d1",
     "grade": false,
     "grade_id": "cell-6365329a3c57c1b1",
     "locked": true,
     "schema_version": 1,
     "solution": false
    }
   },
   "source": [
    "## Question 3 [time estimate: 10 minutes]\n",
    "Now, insert randomly shuffled lists into BSTs, and measure the average depth and the maximum depth. How do these statistics scale as you increase $N$, the number of nodes? Make sure to give a compelling argument that motivates this scaling behaviour (you do not need to provide a technical derivation)."
   ]
  },
  {
   "cell_type": "code",
   "execution_count": 76,
   "metadata": {
    "deletable": false,
    "nbgrader": {
     "checksum": "8a281cd793099803988046803bed99ba",
     "grade": true,
     "grade_id": "cell-bad918a333cabe43",
     "locked": false,
     "points": 0,
     "schema_version": 1,
     "solution": true
    }
   },
   "outputs": [
    {
     "data": {
      "image/png": "[encoded data removed]",
      "text/plain": [
       "<Figure size 432x288 with 1 Axes>"
      ]
     },
     "metadata": {
      "needs_background": "light"
     },
     "output_type": "display_data"
    }
   ],
   "source": [
    "import random\n",
    "#empty lists to store\n",
    "avg_depths = []\n",
    "max_depths = []\n",
    "x = []\n",
    "\n",
    "#creating a range of elements to check scaling of these statistics\n",
    "for n in range(2,5000,500):\n",
    "    x.append(n)\n",
    "    nodes = [Node(i) for i in range(0,n)]\n",
    "    random.shuffle(nodes)\n",
    "    #generating random bst\n",
    "    bst = None\n",
    "    for node in nodes:\n",
    "        if not bst:\n",
    "            bst = node\n",
    "        else:\n",
    "            bst.insert(node)\n",
    "    #calling function to check average depth and max depth\n",
    "    avg_depths.append(avg_depth(bst))\n",
    "    max_depths.append(max_depth(bst))\n",
    "\n",
    "import matplotlib.pyplot as plt\n",
    "plt.plot(x,avg_depths, label=\"Average Depth\", color='red')\n",
    "plt.plot(x,max_depths, label=\"Max Depth\", color='blue')\n",
    "plt.xlabel(\"Total Elements\")\n",
    "plt.ylabel(\"Total Depth\")\n",
    "plt.legend()\n",
    "plt.show()"
   ]
  },
  {
   "cell_type": "markdown",
   "metadata": {},
   "source": [
    "As we see by the figure above, the scaling of the average and the max follows a similar pattern, however, it differs in terms of the scale itself. We cacn see that up til 1000 elements, both average and max depth increase significantly (almost 10x the starting value). After this however, it slows down but still increases till the 2000 element mark. Then it sort of saturates. \n",
    "\n",
    "If we decide to scale these even further, it is expected that slow but steady growth will be observed which is natural because the way the BST is designed is that it requires a growing number of inputs to begin populating the next generation of children. Even if it doesn't need to be completely \"balanced\", only edge cases would result in a severely unbalanced tree that continues to grow in the shape of a linked list. Therefore, the averages and max depths would grow at an increasingly slower rate."
   ]
  },
  {
   "cell_type": "markdown",
   "metadata": {
    "deletable": false,
    "editable": false,
    "nbgrader": {
     "checksum": "dd1dd0c5c45fc94abb6229a38d8e04a2",
     "grade": false,
     "grade_id": "cell-3255b4081c295fa6",
     "locked": true,
     "schema_version": 1,
     "solution": false
    }
   },
   "source": [
    "\n",
    "## Question 4 [time estimate: 7 minutes]\n",
    "\n",
    "Produce a plot showing the scaling behavior that you saw of both the average depth and the maximum depth as a function of the length of the shuffled list. For a meaningful figure, be sure to scale out to a list of size 10,000 and average the timings 50 times. (You don’t have to sample each value from 1 to 10,000!). Is this plot in agreement with the theoretical result you obtained in the previous question? Explain. \n"
   ]
  },
  {
   "cell_type": "code",
   "execution_count": 80,
   "metadata": {
    "deletable": false,
    "nbgrader": {
     "checksum": "a870cffbb739ec466993697791c20248",
     "grade": true,
     "grade_id": "cell-3034eb71070a6734",
     "locked": false,
     "points": 0,
     "schema_version": 1,
     "solution": true
    }
   },
   "outputs": [],
   "source": [
    "avg_depths = []\n",
    "max_depths = []\n",
    "N = []\n",
    "\n",
    "#creating a range of elements to check scaling of these statistics\n",
    "for n in range(2,10000,500):\n",
    "    N.append(n)\n",
    "    nodes = [Node(i) for i in range(0,n)]\n",
    "    random.shuffle(nodes)\n",
    "    #generating random bst\n",
    "    bst = None\n",
    "    for node in nodes:\n",
    "        if not bst:\n",
    "            bst = node\n",
    "        else:\n",
    "            bst.insert(node)\n",
    "    #calling function to check average depth and max depth\n",
    "    avg_depths.append(avg_depth(bst))\n",
    "    max_depths.append(max_depth(bst))"
   ]
  },
  {
   "cell_type": "code",
   "execution_count": 81,
   "metadata": {},
   "outputs": [
    {
     "data": {
      "image/png": "[encoded data removed]",
      "text/plain": [
       "<Figure size 432x288 with 1 Axes>"
      ]
     },
     "metadata": {
      "needs_background": "light"
     },
     "output_type": "display_data"
    }
   ],
   "source": [
    "plt.plot(N, max_depths, color = 'red',label = 'max depth', linewidth = 1.0)\n",
    "plt.plot(N, avg_depths, color = 'blue',label = 'average depth', linewidth = 1.0)\n",
    "plt.xlabel('$N$', fontsize=10)\n",
    "plt.ylabel('depths', fontsize=10)\n",
    "plt.legend()\n",
    "plt.show()"
   ]
  },
  {
   "cell_type": "markdown",
   "metadata": {},
   "source": [
    "Similar graph as before, however, just scaled up so we can see that the predictions I made hold true. "
   ]
  },
  {
   "cell_type": "code",
   "execution_count": null,
   "metadata": {},
   "outputs": [],
   "source": []
  }
 ],
 "metadata": {
  "kernelspec": {
   "display_name": "Python 3",
   "language": "python",
   "name": "python3"
  },
  "language_info": {
   "codemirror_mode": {
    "name": "ipython",
    "version": 3
   },
   "file_extension": ".py",
   "mimetype": "text/x-python",
   "name": "python",
   "nbconvert_exporter": "python",
   "pygments_lexer": "ipython3",
   "version": "3.7.0"
  }
 },
 "nbformat": 4,
 "nbformat_minor": 2
}
