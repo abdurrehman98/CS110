{
 "cells": [
  {
   "cell_type": "markdown",
   "metadata": {},
   "source": [
    "Before you turn this problem in, make sure everything runs as expected. First, **restart the kernel** (in the menubar, select Kernel$\\rightarrow$Restart) and then **run all cells** (in the menubar, select Cell$\\rightarrow$Run All).\n",
    "\n",
    "Note that this Pre-class Work is estimated to take **63 minutes**.\n",
    "\n",
    "Make sure you fill in any place that says `YOUR CODE HERE` or \"YOUR ANSWER HERE\", as well as your name and collaborators below:"
   ]
  },
  {
   "cell_type": "code",
   "execution_count": null,
   "metadata": {},
   "outputs": [],
   "source": [
    "NAME = \"MUHAMMAD ABDURREHMAN ASIF\"\n",
    "COLLABORATORS = \"\""
   ]
  },
  {
   "cell_type": "markdown",
   "metadata": {},
   "source": [
    "---"
   ]
  },
  {
   "cell_type": "markdown",
   "metadata": {
    "deletable": false,
    "editable": false,
    "nbgrader": {
     "checksum": "d84bba7a025d6f4a33659c51c76ab6ce",
     "grade": false,
     "grade_id": "cell-d94cea4a211410ce",
     "locked": true,
     "schema_version": 1,
     "solution": false
    }
   },
   "source": [
    "# CS110 Pre-class Work - Computational Applications of Randomized Algorithms\n",
    "\n",
    "## Part A. Median Heap (watch this [video explanation](https://www.youtube.com/watch?v=756_8C9YBZQ&list=PLF_a-qBXTGFektoI6JUOTRL36JlvD04BR&index=5&t=0s) or read this [description](https://stackoverflow.com/a/15319593/7946759))\n",
    "\n",
    "Throughout this pre-class work, please use the following definition of median: the median of a list of numbers is the one in the middle of the list when the list is ordered. When such the middle element can’t be determined (i.e., in a list of even length), the average of the two middle elements is the median. For example, 5 is the median of [-1,2,4,5,8,10,12], and (5+7)/2=6 is the median of [1,2,3,5,7,8,10,11].\n",
    "\n",
    "Using the idea from Lesson Heaps and Heapsort, we can use a pair of heaps to create a data structure which allows fast access to the median. Use the heapq module in python to create both a max-heap and a min-heap. Note that by default, the heapq module in python only creates min-heaps, but if we multiply elements by -1 when we store them, then we can also create max-heaps.\n",
    "\n",
    "\n",
    "## Question 1 [time estimate: 10 minutes]\n",
    "Write a function `add_to_median_heap(minh, maxh, elem)`. It must accept a min heap, a max heap, and an element to add.\n"
   ]
  },
  {
   "cell_type": "code",
   "execution_count": 6,
   "metadata": {
    "deletable": false,
    "nbgrader": {
     "checksum": "3f8e0bb0de793ce786eba2f6715d69b3",
     "grade": false,
     "grade_id": "cell-50cb08de70712ee7",
     "locked": false,
     "schema_version": 1,
     "solution": true
    }
   },
   "outputs": [],
   "source": [
    "import heapq\n",
    "\n",
    "def add_to_median_heap(minh, maxh, elem):\n",
    "    \n",
    "    #checks if maxheap is empty or if the element is lesser than the rootnode\n",
    "    if not maxh or elem <= maxh[0] * -1:\n",
    "        heapq.heappush(maxh, elem * -1) #heappush into maxheap\n",
    "        \n",
    "    #if the value is greater than root\n",
    "    else:\n",
    "        heapq.heappush(minh, elem) #heappush to rootnode\n",
    "    \n",
    "    \n",
    "    #check which heap is larger and send the root to the other half\n",
    "    if len(minh) - len(maxh) >1:\n",
    "        heapq.heappush(maxh, heapq.heappop(minh) * -1)\n",
    "    \n",
    "    elif len(maxh) - len(minh) >1:\n",
    "        heapq.heappush(mih, heapq.heappop(maxh) * -1)\n",
    "\n"
   ]
  },
  {
   "cell_type": "markdown",
   "metadata": {
    "deletable": false,
    "editable": false,
    "nbgrader": {
     "checksum": "47ae2ae64e7e5a094e32b8e29577ebd2",
     "grade": false,
     "grade_id": "cell-b62f7899e36af96f",
     "locked": true,
     "schema_version": 1,
     "solution": false
    }
   },
   "source": [
    "## Question 2 [time estimate: 5 minutes]\n",
    "Write a function `median(minh, maxh)`. It must return the median element.\n"
   ]
  },
  {
   "cell_type": "code",
   "execution_count": 18,
   "metadata": {
    "deletable": false,
    "nbgrader": {
     "checksum": "4fdb08f74f611846be80db8164227117",
     "grade": false,
     "grade_id": "cell-43ce866dd1dc2d5b",
     "locked": false,
     "schema_version": 1,
     "solution": true
    }
   },
   "outputs": [],
   "source": [
    "def median(minh, maxh):\n",
    "    \n",
    "    #equal heaps\n",
    "    if len(minh) == len(maxh):\n",
    "        return ((maxh[0]*-1+minh[0])/2)\n",
    "    \n",
    "    #if min heap is greater\n",
    "    elif len(minh) > len(maxh):\n",
    "        return minh[0]\n",
    "    \n",
    "    #if maxheap is greater\n",
    "    else:\n",
    "        return maxh[0] * -1"
   ]
  },
  {
   "cell_type": "code",
   "execution_count": 19,
   "metadata": {
    "deletable": false,
    "editable": false,
    "nbgrader": {
     "checksum": "9f79f245efea8c7b7d7c444af36ad997",
     "grade": true,
     "grade_id": "cell-673faa69bf330eda",
     "locked": true,
     "points": 0,
     "schema_version": 1,
     "solution": false
    }
   },
   "outputs": [],
   "source": [
    "# Please ignore this cell. This cell is for us to implement the tests \n",
    "# to see if your code works properly. "
   ]
  },
  {
   "cell_type": "markdown",
   "metadata": {
    "deletable": false,
    "editable": false,
    "nbgrader": {
     "checksum": "ea112ad1eac7cf41487236cf22381071",
     "grade": false,
     "grade_id": "cell-ec86b3a3c5adaedf",
     "locked": true,
     "schema_version": 1,
     "solution": false
    }
   },
   "source": [
    "## Question 3 [time estimate: 1 minute]\n",
    "\n",
    "Uncomment and run the testing code given below to test your functions. It should print out numbers ranging from 1 to 50, in that order."
   ]
  },
  {
   "cell_type": "code",
   "execution_count": 21,
   "metadata": {},
   "outputs": [
    {
     "name": "stdout",
     "output_type": "stream",
     "text": [
      "1\n",
      "2.0\n",
      "3\n",
      "4.0\n",
      "5\n",
      "6.0\n",
      "7\n",
      "8.0\n",
      "9\n",
      "10.0\n",
      "11\n",
      "12.0\n",
      "13\n",
      "14.0\n",
      "15\n",
      "16.0\n",
      "17\n",
      "18.0\n",
      "19\n",
      "20.0\n",
      "21\n",
      "22.0\n",
      "23\n",
      "24.0\n",
      "25\n",
      "26.0\n",
      "27\n",
      "28.0\n",
      "29\n",
      "30.0\n",
      "31\n",
      "32.0\n",
      "33\n",
      "34.0\n",
      "35\n",
      "36.0\n",
      "37\n",
      "38.0\n",
      "39\n",
      "40.0\n",
      "41\n",
      "42.0\n",
      "43\n",
      "44.0\n",
      "45\n",
      "46.0\n",
      "47\n",
      "48.0\n",
      "49\n",
      "50.0\n"
     ]
    }
   ],
   "source": [
    "minh = []\n",
    "maxh = []\n",
    "for a in range(1,100,2):\n",
    "    add_to_median_heap(minh, maxh, a)\n",
    "    print(median(minh, maxh))  "
   ]
  },
  {
   "cell_type": "markdown",
   "metadata": {
    "deletable": false,
    "editable": false,
    "nbgrader": {
     "checksum": "be3a94b3063c99a265c7b868e45a5f69",
     "grade": false,
     "grade_id": "cell-11d4510a48c38394",
     "locked": true,
     "schema_version": 1,
     "solution": false
    }
   },
   "source": [
    "## Question 4 [time estimate: 3 minutes]\n",
    "What’s the worst case complexity to build a median heap using `add_to_median_heap`?"
   ]
  },
  {
   "cell_type": "markdown",
   "metadata": {
    "deletable": false,
    "nbgrader": {
     "checksum": "4ddd5b5c6be74e7306bd08ee76a1b858",
     "grade": true,
     "grade_id": "cell-c8e33ebdc8aaf328",
     "locked": false,
     "points": 0,
     "schema_version": 1,
     "solution": true
    }
   },
   "source": [
    "The add_to_median_heap performs two kinds of tasks. One are comparisons, and the second is heappush. Comparisons will take up an O(1) time complexity,whereas heappush takes O(logn). Since the worst case scenario would require us to iterate over all elements and keep running heappush on them,the worst case complexity would be O(logn)"
   ]
  },
  {
   "cell_type": "markdown",
   "metadata": {
    "deletable": false,
    "editable": false,
    "nbgrader": {
     "checksum": "8a1276ebbad9b1292badcb9090c8a910",
     "grade": false,
     "grade_id": "cell-dada08b7f913c96f",
     "locked": true,
     "schema_version": 1,
     "solution": false
    }
   },
   "source": [
    "## Question 5 [time estimate: 3 minutes] \n",
    "What’s the worst case complexity of `median`?"
   ]
  },
  {
   "cell_type": "markdown",
   "metadata": {
    "deletable": false,
    "nbgrader": {
     "checksum": "7d67e5e84a28b798ba456d72603533f0",
     "grade": true,
     "grade_id": "cell-c061920faa337890",
     "locked": false,
     "points": 0,
     "schema_version": 1,
     "solution": true
    }
   },
   "source": [
    "This will always be O(1) since we do not perform any iterations, any loops, or any other functions that are computationally expensive. We perform a simple comparison and on the basis of that, we only remove the root nodes."
   ]
  },
  {
   "cell_type": "markdown",
   "metadata": {
    "deletable": false,
    "editable": false,
    "nbgrader": {
     "checksum": "73694bd23377143032d5224818a389b7",
     "grade": false,
     "grade_id": "cell-fcf89277dcd46cbe",
     "locked": true,
     "schema_version": 1,
     "solution": false
    }
   },
   "source": [
    "## Question 6 [time estimate: 4 minutes]\n",
    "\n",
    "How does this way of finding the median compare with the vanilla way of sorting the list and pick the middle element? Use arguments based on efficiency or clearity of the respective algorithms."
   ]
  },
  {
   "cell_type": "markdown",
   "metadata": {
    "deletable": false,
    "nbgrader": {
     "checksum": "733fe35313ebf5888c622423bb7462b4",
     "grade": true,
     "grade_id": "cell-1f31afecda9730a7",
     "locked": false,
     "points": 0,
     "schema_version": 1,
     "solution": true
    }
   },
   "source": [
    "Both methods have their own benefits and cons. The vanilla way provides us with something that is easy to visualize and intuitively understand. A sorted list, selecting or computing the exact center of that list is something everyone can conceptualize. Doing it using python depends on the sort of algo we use -- first we would need to find an efficient sorting algo, then we would need to find an inexpensive median finder and combine both. Thus conventional sorting algos such as insertion sort or quicksort need to be adjusted appropriately for efficiency.\n",
    "\n",
    "On the other hand, the algorithm we created now requires a deeper and more meaningful understanding of how heaps work and how we can use the root nodes to calculate the median. The plus point of this method is that it is computationally efficient, providing us with the median in O(nlogn) efficiency -- ( O(nlogn) because we run logn, n times)"
   ]
  },
  {
   "cell_type": "markdown",
   "metadata": {
    "deletable": false,
    "editable": false,
    "nbgrader": {
     "checksum": "d4869e0b17f0248df4c3ae91668257e8",
     "grade": false,
     "grade_id": "cell-695c23986b831032",
     "locked": true,
     "schema_version": 1,
     "solution": false
    }
   },
   "source": [
    "## [Optional] Question 7 [time estimate: 15 minutes]\n",
    "\n",
    "Is it possible to extend this idea to any percentile? If it is, then write code to do so. If it’s not possible, prove why it is not possible."
   ]
  },
  {
   "cell_type": "code",
   "execution_count": null,
   "metadata": {
    "deletable": false,
    "nbgrader": {
     "checksum": "c293e85a4cf43662dc635c9e0f511be4",
     "grade": true,
     "grade_id": "cell-4d0c197e6d484338",
     "locked": false,
     "points": 0,
     "schema_version": 1,
     "solution": true
    }
   },
   "outputs": [],
   "source": [
    "# YOUR CODE HERE\n",
    "raise NotImplementedError()"
   ]
  },
  {
   "cell_type": "markdown",
   "metadata": {
    "deletable": false,
    "editable": false,
    "nbgrader": {
     "checksum": "bd7ff85760b2e8303c3b4482b6ca44b2",
     "grade": false,
     "grade_id": "cell-3cba7ecc0de11f1b",
     "locked": true,
     "schema_version": 1,
     "solution": false
    }
   },
   "source": [
    "## Part B. Quickselect\n",
    "\n",
    "Quicksort can be modified to find the $k$-th smallest element in an unordered list. This is known as quickselect. It does this by choosing a partition (as in quicksort). Once the list has been partitioned then we know how many elements lie to the left and to the right of the partition. This allows us to recursively call quickselect on the correct sublist.\n",
    "\n",
    "## Question 1 [time estimate: 10 minutes]\n",
    "\n",
    "Write a function `qselect(lst, k)`, which takes both a list and an index $k$. The function must then return the $k$-th smallest item in the list.\n"
   ]
  },
  {
   "cell_type": "code",
   "execution_count": 22,
   "metadata": {
    "deletable": false,
    "nbgrader": {
     "checksum": "3714ebe85f9dbc77eb3bb3c106a009ea",
     "grade": false,
     "grade_id": "cell-fb9c2bc9d5b4bc92",
     "locked": false,
     "schema_version": 1,
     "solution": true
    }
   },
   "outputs": [],
   "source": [
    "def qselect(lst,k):\n",
    "    quick_sort(lst,0,len(lst)-1) \n",
    "    return(lst[k])    \n",
    "    \n",
    "    \n",
    "def partition(A,p,r):\n",
    "    \"\"\"\n",
    "    Assume r<len(A) and p>=0\n",
    "    \"\"\"\n",
    "    x = A[r]\n",
    "    i = p - 1\n",
    "    \n",
    "    for j in range(p,r):\n",
    "        if A[j] <= x:\n",
    "            i += 1\n",
    "            A[i], A[j] = A[j], A[i]\n",
    "        \n",
    "    A[i+1], A[r] = A[r], A[i+1]\n",
    "    return i + 1\n",
    "\n",
    "def quick_sort(A,p,r):\n",
    "    if p<r:\n",
    "        q = partition(A,p,r)\n",
    "        quick_sort(A,p,q-1)\n",
    "        quick_sort(A,q+1,r)\n",
    "    return A\n"
   ]
  },
  {
   "cell_type": "code",
   "execution_count": 23,
   "metadata": {
    "deletable": false,
    "editable": false,
    "nbgrader": {
     "checksum": "5ee41421528107f7ae195a7197a5d6d9",
     "grade": true,
     "grade_id": "cell-85a25ed6a1f62a66",
     "locked": true,
     "points": 0,
     "schema_version": 1,
     "solution": false
    }
   },
   "outputs": [],
   "source": [
    "import random\n",
    "random.seed(123) # introducing a seed for reproducibility purposes\n",
    "lst1 = list(range(100))\n",
    "random.shuffle(lst1)\n",
    "lst2 = []\n",
    "for a in range(100):\n",
    "    lst2.append(qselect(lst1, a))\n",
    "assert(lst2 == list(range(100)))"
   ]
  },
  {
   "cell_type": "markdown",
   "metadata": {
    "deletable": false,
    "editable": false,
    "nbgrader": {
     "checksum": "54fddc25ea0529f44aa6653b18ff7745",
     "grade": false,
     "grade_id": "cell-8013044acd03642a",
     "locked": true,
     "schema_version": 1,
     "solution": false
    }
   },
   "source": [
    "## Question 2 [time estimate: 1 minute]\n",
    "\n",
    "Uncomment and run the testing code given below to test your function. It should print out integers from 0 to 99."
   ]
  },
  {
   "cell_type": "code",
   "execution_count": 24,
   "metadata": {},
   "outputs": [
    {
     "name": "stdout",
     "output_type": "stream",
     "text": [
      "0\n",
      "1\n",
      "2\n",
      "3\n",
      "4\n",
      "5\n",
      "6\n",
      "7\n",
      "8\n",
      "9\n",
      "10\n",
      "11\n",
      "12\n",
      "13\n",
      "14\n",
      "15\n",
      "16\n",
      "17\n",
      "18\n",
      "19\n",
      "20\n",
      "21\n",
      "22\n",
      "23\n",
      "24\n",
      "25\n",
      "26\n",
      "27\n",
      "28\n",
      "29\n",
      "30\n",
      "31\n",
      "32\n",
      "33\n",
      "34\n",
      "35\n",
      "36\n",
      "37\n",
      "38\n",
      "39\n",
      "40\n",
      "41\n",
      "42\n",
      "43\n",
      "44\n",
      "45\n",
      "46\n",
      "47\n",
      "48\n",
      "49\n",
      "50\n",
      "51\n",
      "52\n",
      "53\n",
      "54\n",
      "55\n",
      "56\n",
      "57\n",
      "58\n",
      "59\n",
      "60\n",
      "61\n",
      "62\n",
      "63\n",
      "64\n",
      "65\n",
      "66\n",
      "67\n",
      "68\n",
      "69\n",
      "70\n",
      "71\n",
      "72\n",
      "73\n",
      "74\n",
      "75\n",
      "76\n",
      "77\n",
      "78\n",
      "79\n",
      "80\n",
      "81\n",
      "82\n",
      "83\n",
      "84\n",
      "85\n",
      "86\n",
      "87\n",
      "88\n",
      "89\n",
      "90\n",
      "91\n",
      "92\n",
      "93\n",
      "94\n",
      "95\n",
      "96\n",
      "97\n",
      "98\n",
      "99\n"
     ]
    }
   ],
   "source": [
    "import random\n",
    "random.seed(123) # introducing a seed for reproducibility purposes\n",
    "lst = list(range(100))\n",
    "random.shuffle(lst)\n",
    "for a in range(100):\n",
    "    print(qselect(lst, a))"
   ]
  },
  {
   "cell_type": "markdown",
   "metadata": {
    "deletable": false,
    "editable": false,
    "nbgrader": {
     "checksum": "3fede812466807c2a250ab3c6427f75c",
     "grade": false,
     "grade_id": "cell-e7a965de7bb56aa3",
     "locked": true,
     "schema_version": 1,
     "solution": false
    }
   },
   "source": [
    "## Question 3 [time estimate: 5 minutes]\n",
    "\n",
    "Write down the recurrence relation for your code."
   ]
  },
  {
   "cell_type": "markdown",
   "metadata": {
    "deletable": false,
    "nbgrader": {
     "checksum": "6fb3d2481f5df1b96c902e5446844f87",
     "grade": true,
     "grade_id": "cell-24144607b3ffade3",
     "locked": false,
     "points": 0,
     "schema_version": 1,
     "solution": true
    }
   },
   "source": [
    "There are 2 relations that can be made here. Either, the kth element is the median, or the kth element is the first or last element (the same we discussed as a problem for the quicksort before). \n",
    "\n",
    "Since we are only interested in the half of the list before or after the partition that contains our element of interest, at each stage we will break the function down by 2. Thus, the best case would take a T(n/2) + O(N) time. O(N) would be the comparisons complexity and T(N/2) for the partition and breaking down of the list.\n",
    "\n",
    "The worst case would mean breaking down the list until only the first or last element remain -- therefore a runtime of T(N-1). We must perform the comparisons as well, and thus it would be T(n-1) + O(N)"
   ]
  },
  {
   "cell_type": "markdown",
   "metadata": {
    "deletable": false,
    "editable": false,
    "nbgrader": {
     "checksum": "311ee23a32dbc3ba43d3bba0d433871b",
     "grade": false,
     "grade_id": "cell-fd740516f4259f3c",
     "locked": true,
     "schema_version": 1,
     "solution": false
    }
   },
   "source": [
    "## Question 4 [time estimate: 3 minutes]\n",
    "\n",
    "Solve the recurrence relation for quickselect in the best case.\n"
   ]
  },
  {
   "cell_type": "markdown",
   "metadata": {
    "deletable": false,
    "nbgrader": {
     "checksum": "78416da569a0269f78967b11d7b93332",
     "grade": true,
     "grade_id": "cell-c125f4742933e820",
     "locked": false,
     "points": 0,
     "schema_version": 1,
     "solution": true
    }
   },
   "source": [
    "T(N) = T(N/2) + O(N)\n",
    "T(k) = (T(N/4) + O(N/2)) + N ..... \n",
    "we can continually break this down but we have encountered functions like this before, and we see a pattern being created  (O(N/2^n)) which would sum to O(2N) since it is a geometric progression converging. O(2N) can be rewritten as O(N)"
   ]
  },
  {
   "cell_type": "markdown",
   "metadata": {
    "deletable": false,
    "editable": false,
    "nbgrader": {
     "checksum": "7cc9c5e0531e8ece71be2ff60ee65995",
     "grade": false,
     "grade_id": "cell-e281cecc190fd662",
     "locked": true,
     "schema_version": 1,
     "solution": false
    }
   },
   "source": [
    "## Question 5 [time estimate: 3 minutes]\n",
    "\n",
    "Solve the recurrence relation for quickselect in the worst case."
   ]
  },
  {
   "cell_type": "markdown",
   "metadata": {
    "deletable": false,
    "nbgrader": {
     "checksum": "f4cceeaea59e48c3fabdb8d19e302db5",
     "grade": true,
     "grade_id": "cell-852c3a71d8c2d7c1",
     "locked": false,
     "points": 0,
     "schema_version": 1,
     "solution": true
    }
   },
   "source": [
    "T(N) = T(N-1) + O(N)\n",
    "T(N) = T(N-2) + O(N-1) + O(N) .....\n",
    "T(k) = O(N(n-1)). In the worst case, we would get O(N^2)"
   ]
  },
  {
   "cell_type": "code",
   "execution_count": null,
   "metadata": {},
   "outputs": [],
   "source": []
  }
 ],
 "metadata": {
  "kernelspec": {
   "display_name": "Python 3",
   "language": "python",
   "name": "python3"
  },
  "language_info": {
   "codemirror_mode": {
    "name": "ipython",
    "version": 3
   },
   "file_extension": ".py",
   "mimetype": "text/x-python",
   "name": "python",
   "nbconvert_exporter": "python",
   "pygments_lexer": "ipython3",
   "version": "3.7.0"
  }
 },
 "nbformat": 4,
 "nbformat_minor": 2
}
