{
 "cells": [
  {
   "cell_type": "markdown",
   "metadata": {},
   "source": [
    "Before you turn this problem in, make sure everything runs as expected. First, **restart the kernel** (in the menubar, select Kernel$\\rightarrow$Restart) and then **run all cells** (in the menubar, select Cell$\\rightarrow$Run All).\n",
    "\n",
    "Note that this Pre-class Work is estimated to take **25 minutes**.\n",
    "\n",
    "Make sure you fill in any place that says `YOUR CODE HERE` or \"YOUR ANSWER HERE\", as well as your name and collaborators below:"
   ]
  },
  {
   "cell_type": "code",
   "execution_count": null,
   "metadata": {},
   "outputs": [],
   "source": [
    "NAME = \"MUHAMMAD ABDURREHMAN ASIF\"\n",
    "COLLABORATORS = \"\""
   ]
  },
  {
   "cell_type": "markdown",
   "metadata": {},
   "source": [
    "---"
   ]
  },
  {
   "cell_type": "markdown",
   "metadata": {
    "deletable": false,
    "editable": false,
    "nbgrader": {
     "checksum": "5865d2204a0c61ef0e71a78a62bd5e1a",
     "grade": false,
     "grade_id": "cell-61b183447ded09ef",
     "locked": true,
     "schema_version": 1,
     "solution": false
    }
   },
   "source": [
    "# CS110 Pre-class Work - Deterministic Quicksort\n",
    "\n",
    "## Question 1 [time estimate: 5 minutes]\n",
    "\n",
    "Using Figure 7.1 in Cormen et al. as a model, perform manually the partition process on the following list: A = [1,5,6,2,3,8,9,4,7]. You just need to specify the followings:\n",
    "1. The array after the process is done.\n",
    "2. The value of $i$ after the process is done."
   ]
  },
  {
   "cell_type": "markdown",
   "metadata": {
    "deletable": false,
    "nbgrader": {
     "checksum": "06dce98d07f8f042785a795b32e7ef75",
     "grade": true,
     "grade_id": "cell-7aa520f8af13679b",
     "locked": false,
     "points": 0,
     "schema_version": 1,
     "solution": true
    }
   },
   "source": [
    "First partition using 7 as pivot.\n",
    "[1,5,6,2,3,8,9,4,7] i is at 1(element not index num) and j is at 4. Finding element smaller than 7 going left from j and bigger than 7 incrementing i\n",
    "4 and 8 will be swapped\n",
    "\n",
    "[1,5,6,2,3,4,9,8,7]\n",
    "Now since i and j have crossed over, we will put 7 in after the swapped elements position since it j > i\n",
    "[1,5,6,2,3,4,7,9,8]\n",
    "Position of i is = 6\n",
    "\n",
    "[1,5,6,2,3,4], [7], [9,8] will be sorted next\n",
    "\n",
    "\n",
    "[1,3,2,4,6,5] is the next step with i = 3\n",
    "[1,3,2],[4],[6,5], [7], [8,9]   8 and 9 are swapped as well\n",
    "\n",
    "recombined after final swaps\n",
    "[1,2,3,4,5,6,7,8,9]"
   ]
  },
  {
   "cell_type": "markdown",
   "metadata": {
    "deletable": false,
    "editable": false,
    "nbgrader": {
     "checksum": "21059776e9083caf84e8abb5b6fb893e",
     "grade": false,
     "grade_id": "cell-6c0a9dfd6980c336",
     "locked": true,
     "schema_version": 1,
     "solution": false
    }
   },
   "source": [
    "## Question 2 [time estimate: 7 minutes]\n",
    "\n",
    "Code up a Python implementation of `partition(A, p, r)`, closely follow the pseudo-code in Cormen et al., p.172. Your function should return the index of the pivot in the array."
   ]
  },
  {
   "cell_type": "code",
   "execution_count": 1,
   "metadata": {
    "deletable": false,
    "nbgrader": {
     "checksum": "395997ac94ed1416c67b22f7977c07a5",
     "grade": false,
     "grade_id": "cell-1ceb2600756c60ff",
     "locked": false,
     "schema_version": 1,
     "solution": true
    }
   },
   "outputs": [],
   "source": [
    "def partition(A,p,r):\n",
    "    \"\"\"\n",
    "    Assume r<len(A) and p>=0\n",
    "    \"\"\"\n",
    "    x = A[r]\n",
    "    i = p - 1\n",
    "    \n",
    "    for j in range(p,r):\n",
    "        if A[j] <= x:\n",
    "            i += 1\n",
    "            A[i], A[j] = A[j], A[i]\n",
    "        \n",
    "    A[i+1], A[r] = A[r], A[i+1]\n",
    "    return i + 1"
   ]
  },
  {
   "cell_type": "code",
   "execution_count": 2,
   "metadata": {
    "deletable": false,
    "editable": false,
    "nbgrader": {
     "checksum": "34aa315313b6f9d8de8efe0922e5b563",
     "grade": true,
     "grade_id": "cell-a57b60117a7b82fb",
     "locked": true,
     "points": 1,
     "schema_version": 1,
     "solution": false
    }
   },
   "outputs": [],
   "source": [
    "A = [1,5,6,2,3,8,9,4,7]\n",
    "assert(partition(A, 0, len(A)-1)==6)"
   ]
  },
  {
   "cell_type": "markdown",
   "metadata": {
    "deletable": false,
    "editable": false,
    "nbgrader": {
     "checksum": "3496e310776eba92a8290d114db627cd",
     "grade": false,
     "grade_id": "cell-cd490c45f6733522",
     "locked": true,
     "schema_version": 1,
     "solution": false
    }
   },
   "source": [
    "## Question 3 [time estimate: 3 minutes]\n",
    "\n",
    "Code up your own Python implementation of `quicksort(A, p, r)`, using `partition(A,p,r)`."
   ]
  },
  {
   "cell_type": "code",
   "execution_count": 3,
   "metadata": {
    "deletable": false,
    "nbgrader": {
     "checksum": "7e40c51fd1bd31c790aa0dd8abde1fb7",
     "grade": false,
     "grade_id": "cell-8c39ebb8cd1aa83a",
     "locked": false,
     "schema_version": 1,
     "solution": true
    }
   },
   "outputs": [],
   "source": [
    "def quick_sort(A,p,r):\n",
    "    if p<r:\n",
    "        q = partition(A,p,r)\n",
    "        quick_sort(A,p,q-1)\n",
    "        quick_sort(A,q+1,r)\n",
    "    return A\n"
   ]
  },
  {
   "cell_type": "code",
   "execution_count": 4,
   "metadata": {
    "deletable": false,
    "editable": false,
    "nbgrader": {
     "checksum": "80923d1142f0ef958a616db1105a8c1a",
     "grade": true,
     "grade_id": "cell-4f822430efd456ee",
     "locked": true,
     "points": 1,
     "schema_version": 1,
     "solution": false
    }
   },
   "outputs": [],
   "source": [
    "A = [0]\n",
    "assert(quick_sort(A, 0, 0) == [0])\n",
    "A = [3,1,2]\n",
    "assert(quick_sort(A, 0, 2) == [1,2,3])"
   ]
  },
  {
   "cell_type": "markdown",
   "metadata": {
    "deletable": false,
    "editable": false,
    "nbgrader": {
     "checksum": "741cfe874ccaef343713f81ec963360c",
     "grade": false,
     "grade_id": "cell-53941fba9302c591",
     "locked": true,
     "schema_version": 1,
     "solution": false
    }
   },
   "source": [
    "## Question 4 [time estimate: 10 minutes] \n",
    "\n",
    "Explain (using experimental plots) the running time of `quick_sort` when: \n",
    "1. all elements of array A have the same value (e.g., [1,1,1])?\n",
    "2. array A contains distinct elements sorted in decreasing order (e.g., [5,4,2,1])?\n"
   ]
  },
  {
   "cell_type": "code",
   "execution_count": 21,
   "metadata": {
    "deletable": false,
    "nbgrader": {
     "checksum": "f5ddaf0e684d72d229df078b18f321f8",
     "grade": true,
     "grade_id": "cell-b58035dd5fa02329",
     "locked": false,
     "points": 0,
     "schema_version": 1,
     "solution": true
    }
   },
   "outputs": [],
   "source": [
    "import time\n",
    "time_duplicates = []\n",
    "time_reversed = []\n",
    "for z in range(1,30):\n",
    "    \n",
    "        list_duplicates = [1 for i in range(1, z+1)] #input of duplicates sized at 100*z\n",
    "        list_reversed = [i for i in range(100*z, 0, -1)]   #inputs of reversed elements sized at 100*z\n",
    "        \n",
    "        #time comparisons for duplicate lists\n",
    "        start = time.time()\n",
    "        quick_sort(list_duplicates,0,len(list_duplicates)-1)\n",
    "        end = time.time()\n",
    "        time_duplicates.append(end - start)\n",
    "        \n",
    "        \n",
    "        #comparison for reversed lists\n",
    "        start = time.time()\n",
    "        quick_sort(list_reversed,0,len(list_reversed)-1)\n",
    "        end = time.time()\n",
    "        time_reversed.append(end - start)\n",
    "        \n",
    "\n"
   ]
  },
  {
   "cell_type": "code",
   "execution_count": 35,
   "metadata": {},
   "outputs": [
    {
     "data": {
      "image/png": "[encoded data removed]",
      "text/plain": [
       "<Figure size 432x288 with 1 Axes>"
      ]
     },
     "metadata": {
      "needs_background": "light"
     },
     "output_type": "display_data"
    }
   ],
   "source": [
    "import matplotlib.pyplot as plt\n",
    "x = list(range(1,30))\n",
    "plt.plot(x,time_duplicates, color='blue', label=\"Duplicate Array\")\n",
    "plt.plot(x,time_reversed, color='red', label=\"Reversed Array\")\n",
    "plt.xlabel(\"Input sizes\")\n",
    "plt.ylabel(\"Runtime (s)\")\n",
    "plt.legend()\n",
    "plt.show()\n"
   ]
  },
  {
   "cell_type": "markdown",
   "metadata": {},
   "source": [
    "As we can see that the input has some sort of weightage on the total runtime. For reversed arrays, the runtime starts increasing significantly at every step. The way that the function works means that each step requires a pivot and then comparisons. Therefore, the time complexity for the worst case would mean O(n^2). On the other hand, the runtime for all same elements should be longer than the graph as well, since the pivot would need to change and comparisons would be required."
   ]
  },
  {
   "cell_type": "code",
   "execution_count": null,
   "metadata": {},
   "outputs": [],
   "source": []
  },
  {
   "cell_type": "code",
   "execution_count": null,
   "metadata": {},
   "outputs": [],
   "source": []
  }
 ],
 "metadata": {
  "kernelspec": {
   "display_name": "Python 3",
   "language": "python",
   "name": "python3"
  },
  "language_info": {
   "codemirror_mode": {
    "name": "ipython",
    "version": 3
   },
   "file_extension": ".py",
   "mimetype": "text/x-python",
   "name": "python",
   "nbconvert_exporter": "python",
   "pygments_lexer": "ipython3",
   "version": "3.7.0"
  }
 },
 "nbformat": 4,
 "nbformat_minor": 2
}
