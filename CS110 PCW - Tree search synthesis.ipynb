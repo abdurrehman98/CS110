{
 "cells": [
  {
   "cell_type": "markdown",
   "metadata": {},
   "source": [
    "Before you turn this problem in, make sure everything runs as expected. First, **restart the kernel** (in the menubar, select Kernel$\\rightarrow$Restart) and then **run all cells** (in the menubar, select Cell$\\rightarrow$Run All).\n",
    "\n",
    "Note that this Pre-class Work is estimated to take **28 minutes**.\n",
    "\n",
    "Make sure you fill in any place that says `YOUR CODE HERE` or \"YOUR ANSWER HERE\", as well as your name and collaborators below:"
   ]
  },
  {
   "cell_type": "code",
   "execution_count": null,
   "metadata": {},
   "outputs": [],
   "source": [
    "NAME = \"MUHAMMAD ABDURREHMAN\"\n",
    "COLLABORATORS = \"\""
   ]
  },
  {
   "cell_type": "markdown",
   "metadata": {},
   "source": [
    "---"
   ]
  },
  {
   "cell_type": "markdown",
   "metadata": {
    "deletable": false,
    "editable": false,
    "nbgrader": {
     "checksum": "b3f93c2f494dceafc0c8bfb013b53b21",
     "grade": false,
     "grade_id": "cell-33bec640a44b2efb",
     "locked": true,
     "schema_version": 1,
     "solution": false
    }
   },
   "source": [
    "# CS110 Pre-class Work - Tree search synthesis\n",
    "\n",
    "## Question 1 [time estimate: 1 minute]\n",
    "\n",
    "Fill in the code below for the method `insert` for a node in a BST. This should be a matter of copy-paste, as this is part of the pre-class work for lesson \"Binary Search Trees (BSTs).\""
   ]
  },
  {
   "cell_type": "code",
   "execution_count": 2,
   "metadata": {
    "deletable": false,
    "nbgrader": {
     "checksum": "1e73c46c2a2a875237544d6dc55bb5dd",
     "grade": false,
     "grade_id": "cell-745f89da313e6515",
     "locked": false,
     "schema_version": 1,
     "solution": true
    }
   },
   "outputs": [],
   "source": [
    "## Binary Search Tree\n",
    "##\n",
    "class Node:\n",
    "    def __init__(self, val):\n",
    "        self.l_child = None\n",
    "        self.r_child = None\n",
    "        self.parent = None\n",
    "        self.data = val\n",
    "\n",
    "    def insert(self, node):\n",
    "        \"\"\"inserts a node into a *non-empty* tree rooted at the node, returns the root\"\"\"\n",
    "        if self.data > node.data:\n",
    "            if self.l_child is None:\n",
    "                self.l_child = node\n",
    "                node.parent = self\n",
    "            else:\n",
    "                self.l_child.insert(node)\n",
    "        else:\n",
    "            if self.r_child is None:\n",
    "                self.r_child = node\n",
    "                node.parent = self\n",
    "            else:\n",
    "                self.r_child.insert(node)\n",
    "        return self"
   ]
  },
  {
   "cell_type": "markdown",
   "metadata": {
    "deletable": false,
    "editable": false,
    "nbgrader": {
     "checksum": "d7869a1408da6c53f19a4997a5f9f19d",
     "grade": false,
     "grade_id": "cell-cb50799e5896410d",
     "locked": true,
     "schema_version": 1,
     "solution": false
    }
   },
   "source": [
    "## Question 2 [time estimate: 10 minutes]\n",
    "\n",
    "Below you are provided the code for insertion in an AVL tree. However, to make it work, you need to complete the functions `left_rotate` and `right_rotate`. Use the pseudo-code `LEFT-ROTATE` in Cormen et al. and the one you wrote for `RIGHT-ROTATE` from lesson \"Red-black trees—part II\" to fill in the code."
   ]
  },
  {
   "cell_type": "code",
   "execution_count": 3,
   "metadata": {
    "deletable": false,
    "editable": false,
    "nbgrader": {
     "checksum": "4d07355d974c38bbebe0126bd35fc223",
     "grade": false,
     "grade_id": "cell-361ebe4f40c15ba5",
     "locked": false,
     "schema_version": 1,
     "solution": true
    }
   },
   "outputs": [],
   "source": [
    "## AVL Tree\n",
    "##\n",
    "class AVLNode(Node):\n",
    "    def __init__(self, val):\n",
    "        self.l_child = None\n",
    "        self.r_child = None\n",
    "        self.parent = None\n",
    "        self.data = val\n",
    "        self.lr_balance = 0\n",
    "        self.height = 0\n",
    "    \n",
    "    def get_violating_node(self, root):\n",
    "        if self == root:\n",
    "            return None\n",
    "        if self == self.parent.r_child:\n",
    "            if not self.parent.l_child:\n",
    "                self.parent.height = max(-1, self.height) + 1\n",
    "                self.parent.lr_balance = -1-self.height\n",
    "            else:\n",
    "                self.parent.height = max(self.parent.l_child.height, self.height) + 1\n",
    "                self.parent.lr_balance = self.parent.l_child.height-self.height\n",
    "        else:\n",
    "            if not self.parent.r_child:\n",
    "                self.parent.height = max(-1, self.height) + 1\n",
    "                self.parent.lr_balance = self.height + 1\n",
    "            else:\n",
    "                self.parent.height = max(self.parent.r_child.height, self.height) + 1\n",
    "                self.parent.lr_balance = self.height-self.parent.r_child.height\n",
    "        if abs(self.parent.lr_balance) > 1:\n",
    "            return self.parent\n",
    "        else:\n",
    "            return self.parent.get_violating_node(root)\n",
    "                \n",
    "\n",
    "    def insert(self, node):\n",
    "        \"\"\"inserts a node into a *non-empty* tree rooted at the node, returns the root\"\"\"\n",
    "\n",
    "        violating_node = None\n",
    "        curr_node = self\n",
    "        root = self\n",
    "        while curr_node:\n",
    "            if curr_node.data > node.data:\n",
    "                if curr_node.l_child is None:\n",
    "                    curr_node.l_child = node\n",
    "                    node.parent = curr_node\n",
    "                    break\n",
    "                else:\n",
    "                    curr_node = curr_node.l_child \n",
    "            else:   \n",
    "                if curr_node.r_child is None:\n",
    "                    curr_node.r_child = node\n",
    "                    node.parent = curr_node\n",
    "                    break\n",
    "                else:\n",
    "                    curr_node = curr_node.r_child\n",
    "        # fix up the tree\n",
    "        violating_node = node.get_violating_node(root)\n",
    "        \n",
    "        while violating_node:\n",
    "            x = violating_node\n",
    "            if x.lr_balance < 0: # right heavy\n",
    "                y = x.r_child\n",
    "                if y.lr_balance < 0:\n",
    "                    root = left_rotate(x, root)\n",
    "                    x.lr_balance = 0\n",
    "                    x.height -= 2\n",
    "                    y.lr_balance = 0\n",
    "                elif y.lr_balance == 0:\n",
    "                    root = left_rotate(x, root)\n",
    "                    x.lr_balance = -1\n",
    "                    x.height -= 1\n",
    "                    y.lr_balance = 1\n",
    "                    y.height += 1 \n",
    "                else:\n",
    "                    z = x.r_child\n",
    "                    y = z.l_child\n",
    "                    root = right_rotate(z, root)\n",
    "                    root = left_rotate(x, root)\n",
    "                    x.height -= 2\n",
    "                    y.lr_balance = 0\n",
    "                    y.height += 1\n",
    "                    z.height -= 1 \n",
    "                    if y.lr_balance == -1: \n",
    "                        x.lr_balance = 1\n",
    "                        z.lr_balance = 0\n",
    "                    elif y.lr_balance == 0: \n",
    "                        x.lr_balance = 0\n",
    "                        z.lr_balance = 0\n",
    "                    else: \n",
    "                        x.lr_balance = 0\n",
    "                        z.lr_balance = -1 \n",
    "       \n",
    "            else:\n",
    "                y = x.l_child\n",
    "                if y.lr_balance > 0:\n",
    "                    root = right_rotate(x, root)\n",
    "                    x.lr_balance = 0\n",
    "                    x.height -= 2\n",
    "                    y.lr_balance = 0\n",
    "                elif y.lr_balance == 0:\n",
    "                    root = right_rotate(x, root)\n",
    "                    x.lr_balance = 1\n",
    "                    x.height -= 1\n",
    "                    y.lr_balance = -1\n",
    "                    y.height += 1\n",
    "                else:\n",
    "                    z = x.l_child \n",
    "                    y = z.r_child\n",
    "                    root = left_rotate(z, root)\n",
    "                    root = right_rotate(x, root)\n",
    "                    x.height -= 2\n",
    "                    y.lr_balance = 0\n",
    "                    y.height += 1\n",
    "                    z.height -= 1\n",
    "                    if y.lr_balance == -1: # B: k-2, C: k-1\n",
    "                        x.lr_balance = 0\n",
    "                        z.lr_balance = 1\n",
    "                    elif y.lr_balance == 0: # B=C=k-1\n",
    "                        x.lr_balance = 0\n",
    "                        z.lr_balance = 0\n",
    "                    else: # B: k-1, C: k-2\n",
    "                        x.lr_balance = -1\n",
    "                        z.lr_balance = 0\n",
    "            if root == y: \n",
    "                violating_node = None\n",
    "                continue\n",
    "            elif y == y.parent.l_child:\n",
    "                y.parent.lr_balance = y.height - y.parent.r_child.height\n",
    "                y.parent.height = max(y.height, y.parent.r_child.height) + 1\n",
    "            elif y == y.parent.r_child:\n",
    "                y.parent.lr_balance = y.parent.l_child.height - y.height\n",
    "                y.parent.height = max(y.parent.l_child.height, y.height) + 1\n",
    "            if abs(y.parent.lr_balance) > 1:\n",
    "                violating_node = y.parent\n",
    "            else: violating_node = None \n",
    "        return root"
   ]
  },
  {
   "cell_type": "code",
   "execution_count": 18,
   "metadata": {
    "deletable": false,
    "nbgrader": {
     "checksum": "4d07355d974c38bbebe0126bd35fc223",
     "grade": false,
     "grade_id": "cell-361ebe4f40c15ba5",
     "locked": false,
     "schema_version": 1,
     "solution": true
    }
   },
   "outputs": [],
   "source": [
    "def left_rotate(x, root):\n",
    "    \"\"\"\n",
    "    Performs left-rotation on x, returns the root. This \n",
    "    procedure does NOT update any augmented data (if any)\n",
    "    of the nodes (e.g., height, left-right balance, etc.), \n",
    "    simply changing the pointers and the parent-child \n",
    "    relationship,and setting the new root (if any). The updating \n",
    "    task belongs to the procedure that calls this function.\n",
    "    \n",
    "    Parameters\n",
    "    ----------\n",
    "    x \n",
    "        A node to be performed the rotation on\n",
    "    root\n",
    "        The root node of the tree.\n",
    "    \n",
    "    Returns\n",
    "    -------\n",
    "    root\n",
    "        The (new) root of the tree\n",
    "        \n",
    "    \"\"\"\n",
    "    y = x.r_child\n",
    "    x.r_child = y.l_child\n",
    "    if y.l_child != None:\n",
    "        y.l_child.parent = x\n",
    "    y.parent = x.parent\n",
    "    if x.parent == None:\n",
    "        root = y\n",
    "    elif x == x.parent.l_child:\n",
    "        x.parent.l_child = y\n",
    "    else:\n",
    "        x.parent.r_child = y\n",
    "    y.l_child = x\n",
    "    x.parent = y\n",
    "    return root"
   ]
  },
  {
   "cell_type": "code",
   "execution_count": 17,
   "metadata": {
    "deletable": false,
    "nbgrader": {
     "checksum": "7e1816bd591f129a1c9fbf246aae552f",
     "grade": false,
     "grade_id": "cell-a66fe31e657ca5d1",
     "locked": false,
     "schema_version": 1,
     "solution": true
    }
   },
   "outputs": [],
   "source": [
    "def right_rotate(y, root):\n",
    "    \"\"\"\n",
    "    Performs right-rotation on x, returns the root. This \n",
    "    procedure does NOT update any augmented data (if any)\n",
    "    of the nodes (e.g., height, left-right balance, etc.), \n",
    "    simply changing the pointers and the parent-child \n",
    "    relationship,and setting the new root (if any). The updating \n",
    "    task belongs to the procedure that calls this function.\n",
    "    \n",
    "    Parameters\n",
    "    ----------\n",
    "    x \n",
    "        A node to be performed the rotation on\n",
    "    root\n",
    "        The root node of the tree.\n",
    "    \n",
    "    Returns\n",
    "    -------\n",
    "    root\n",
    "        The (new) root of the tree\n",
    "        \n",
    "    \"\"\"\n",
    "    #naming the left child\n",
    "    x = y.l_child\n",
    "    #rotating through tree\n",
    "    y.l_child = x.r_child\n",
    "    if not x.r_child is None:  #if node is not empty\n",
    "        x.r_child.parent = y\n",
    "    #renaming parents of x to parent of y\n",
    "    x.parent = y.parent\n",
    "    #when the parent node isnt left\n",
    "    if not y.parent:\n",
    "        root = x\n",
    "    elif y == y.parent.r_child:  #if left parent right child\n",
    "        y.parent.r_child = x    #move down to right child\n",
    "    else:\n",
    "        y.parent.l_child = x    #move down to left child\n",
    "    #final children\n",
    "    x.r_child = y\n",
    "    y.parent = x\n",
    "    return root"
   ]
  },
  {
   "cell_type": "markdown",
   "metadata": {
    "deletable": false,
    "editable": false,
    "nbgrader": {
     "checksum": "92c9e3b666432f9bf7e2b691b376313a",
     "grade": false,
     "grade_id": "cell-4dec73b8479def4e",
     "locked": true,
     "schema_version": 1,
     "solution": false
    }
   },
   "source": [
    "## Question 3 [time estimate: 17 minutes]\n",
    "We will now use the code above to build a BST and an AVL by randomly inserting to the trees, then produce a plot to compare their expected heights. **Carefully** follow the instructions below to fill in the code.\n",
    "\n",
    "### Question 3a [time estimate: 2 minutes]\n",
    "\n",
    "Complete the function `height` to compute the height of a tree rooted at a node. This should also be a matter of copying and pasting because you can utilize what you wrote for `max_depth` in lesson \"Randomly built BSTs\" (recall that maximum depth of a tree rooted at a node is the node's height in the tree.)"
   ]
  },
  {
   "cell_type": "code",
   "execution_count": 53,
   "metadata": {
    "deletable": false,
    "nbgrader": {
     "checksum": "a926c72647c7f4653ed83a630a7abca9",
     "grade": false,
     "grade_id": "cell-67be70c6f7fed4d7",
     "locked": false,
     "schema_version": 1,
     "solution": true
    }
   },
   "outputs": [],
   "source": [
    "import random\n",
    "import numpy as np\n",
    "import matplotlib.pyplot as plt\n",
    "def height(node):\n",
    "    \"\"\"\n",
    "    Finds the height of a BST rooted at a node.\n",
    "    \n",
    "    Parameters\n",
    "    ----------\n",
    "    node \n",
    "        A node, the root of the BST\n",
    "    \n",
    "    Returns\n",
    "    -------\n",
    "    h : int\n",
    "        The height of the BST\n",
    "        \n",
    "    \"\"\"\n",
    "    return avl_height(node) - 1  #not counting the root\n",
    "\n",
    "\n",
    "#supplementary function to call recursively\n",
    "def avl_height(node):\n",
    "    #base case\n",
    "    if not node:\n",
    "        return 0\n",
    "    #else keep looking for the deepest leaf\n",
    "    else:\n",
    "        #recursive calls to go deeper and search for the depth\n",
    "        leftchild = avl_height(node.l_child)\n",
    "        rightchild = avl_height(node.r_child)\n",
    "        return 1 + max(leftchild, rightchild)"
   ]
  },
  {
   "cell_type": "markdown",
   "metadata": {
    "deletable": false,
    "editable": false,
    "nbgrader": {
     "checksum": "951ed871170d84e77bf0894ea995e67f",
     "grade": false,
     "grade_id": "cell-380cdb956934e0ba",
     "locked": true,
     "schema_version": 1,
     "solution": false
    }
   },
   "source": [
    "### Question 3b [time estimate: 15 minutes]\n",
    "Fill in the `get_expected_height_stats` function below to get the data ready for plotting. You need to follow the template and the instructions written in the code to produce consistent data to plot. "
   ]
  },
  {
   "cell_type": "code",
   "execution_count": 62,
   "metadata": {
    "deletable": false,
    "nbgrader": {
     "checksum": "db7d02190fb5fa9d6177cdf63b8e8a71",
     "grade": false,
     "grade_id": "cell-7f81be8024b68ab4",
     "locked": false,
     "schema_version": 1,
     "solution": true
    }
   },
   "outputs": [],
   "source": [
    "import random \n",
    "\n",
    "def get_expected_height_stats(iterations):\n",
    "    \"\"\"\n",
    "    Generate the data for plotting the expected heights of BST and AVL.\n",
    "    \n",
    "    Parameters\n",
    "    ----------\n",
    "    iterations : int\n",
    "        The number of times to insert into the tree for eachvalue of the \n",
    "        number of nodes to insert. For each iteration, a height is computed. \n",
    "        After all the iterations, all the computed heights are averaged to\n",
    "        get an estimate of the expected height. \n",
    "    \n",
    "    Returns\n",
    "    -------\n",
    "    bst_expected_heights, avl_expected_heights : list of float\n",
    "        Contains the expected heights for the two types of trees. Each \n",
    "        element in each list corresponds to one value of n, the number of \n",
    "        nodes in the tree. The values of n are taken from range(1,500,10) \n",
    "        \n",
    "    \"\"\"\n",
    "    bst_expected_heights = []\n",
    "    avl_expected_heights = []\n",
    "    \n",
    "    for n in range(1,500,10):\n",
    "        # For each value of n, you need to insert n nodes to each tree for \n",
    "        # `iterations` times. For each iteration:\n",
    "            # 1. Create a list containing all integers from 0 to n-1\n",
    "            # 2. SET A RANDOM SEED TO THE INDEX OF THE CURRENT ITERATION and\n",
    "            # shuffle the list. For example, if your code is `for i in range(iterations)`,\n",
    "            # then use random.seed(i). Also, see the sample code in the next step.\n",
    "            # 3. Create BST nodes and AVL nodes taking the values from the list \n",
    "            # and insert those nodes to the respective trees IN THAT ORDER.\n",
    "            # Do make use of these lines of code:\n",
    "                # vals = list(range(int(n)))\n",
    "                # random.seed(i)\n",
    "                # random.shuffle(vals)\n",
    "                # BSTnodes = [Node(val) for val in vals]\n",
    "                # AVLnodes = [AVLNode(val) for val in vals]\n",
    "            # 4. After inserting to both trees, compute the heights.\n",
    "        \n",
    "        #creating temporary lists to store the final values\n",
    "        temp_list1=[]\n",
    "        templist_2=[]\n",
    "        \n",
    "        #using code provided in pseudocode\n",
    "        for i in range(iterations):\n",
    "            vals = list(range(n))\n",
    "            random.seed(i)\n",
    "            random.shuffle(vals)\n",
    "            BSTnodes = [Node(val) for val in vals]\n",
    "            AVLnodes = [AVLNode(val) for val in vals]\n",
    "            \n",
    "            #code for creating the bst\n",
    "            bst = None\n",
    "            \n",
    "            #using insert function we defined before\n",
    "            for k in BSTnodes:\n",
    "                if not bst:\n",
    "                    bst = k\n",
    "                else:\n",
    "                    bst = bst.insert(k)\n",
    "                    \n",
    "            #avl creation, similar to bsr        \n",
    "            avl = None\n",
    "            for s in AVLnodes:\n",
    "                if not avl:\n",
    "                    avl = s\n",
    "                else:\n",
    "                    avl = avl.insert(s)\n",
    "                    \n",
    "            #using height function to append absolute heights\n",
    "            temp_list1.append(height(bst))\n",
    "            templist_2.append(height(avl))\n",
    "        \n",
    "        #average or expected heights\n",
    "        bst_expected_heights.append(sum(temp_list1)/len(temp_list1))\n",
    "        avl_expected_heights.append(sum(templist_2)/len(templist_2))\n",
    "        \n",
    "    return bst_expected_heights, avl_expected_heights"
   ]
  },
  {
   "cell_type": "code",
   "execution_count": 63,
   "metadata": {
    "deletable": false,
    "editable": false,
    "nbgrader": {
     "checksum": "78ecdec6c1dcb0ad786b79fd6d9b2295",
     "grade": true,
     "grade_id": "cell-e36f0f152ef65c10",
     "locked": true,
     "points": 1,
     "schema_version": 1,
     "solution": false
    }
   },
   "outputs": [],
   "source": [
    "bst_expected_heights, avl_expected_heights = get_expected_height_stats(10)\n",
    "\n",
    "assert(bst_expected_heights == [0.0, 5.3, 6.8, 7.8, 9.9, 10.2, 9.9, 11.2, 12.0, 12.2, 12.3, \n",
    "                                12.2, 12.1, 13.4, 13.2, 13.0, 14.3, 14.7, 13.8, 14.1, 14.5, \n",
    "                                15.5, 14.9, 16.0, 16.1, 16.2, 15.4, 17.5, 16.7, 16.1, 16.4, \n",
    "                                17.4, 16.1, 17.3, 16.8, 16.2, 16.7, 17.5, 17.1, 18.4, 17.5, \n",
    "                                17.0, 17.8, 18.4, 18.3, 17.8, 17.7, 17.3, 18.0, 19.5])\n",
    "assert(avl_expected_heights == [0.0, 3.0, 4.1, 5.0, 5.4, 6.0, 6.0, 6.1, 6.8, 6.9, 7.0, 7.0, \n",
    "                                7.3, 7.3, 7.5, 8.0, 8.0, 8.0, 8.0, 8.0, 8.0, 8.2, 8.2, 8.0, \n",
    "                                8.4, 8.5, 8.7, 8.8, 8.9, 8.8, 8.9, 9.0, 9.0, 9.0, 9.0, 9.0, \n",
    "                                9.0, 9.0, 9.3, 9.1, 9.1, 9.3, 9.3, 9.7, 9.5, 9.6, 9.8, 9.8, \n",
    "                                9.9, 9.8])\n"
   ]
  },
  {
   "cell_type": "markdown",
   "metadata": {
    "deletable": false,
    "editable": false,
    "nbgrader": {
     "checksum": "9c5e80c043dfcf6a468da6103b588233",
     "grade": false,
     "grade_id": "cell-929bd013372e6130",
     "locked": true,
     "schema_version": 1,
     "solution": false
    }
   },
   "source": [
    "If you have done everything correctly, running the following code will produce a plot that compares the expected heights of BST and AVL tree. "
   ]
  },
  {
   "cell_type": "code",
   "execution_count": 64,
   "metadata": {},
   "outputs": [
    {
     "data": {
      "text/plain": [
       "<matplotlib.legend.Legend at 0x23881f6db70>"
      ]
     },
     "execution_count": 64,
     "metadata": {},
     "output_type": "execute_result"
    },
    {
     "data": {
      "image/png": "[encoded data removed]",
      "text/plain": [
       "<Figure size 432x288 with 1 Axes>"
      ]
     },
     "metadata": {
      "needs_background": "light"
     },
     "output_type": "display_data"
    }
   ],
   "source": [
    "bst_expected_heights, avl_expected_heights = get_expected_height_stats(10)\n",
    "\n",
    "plt.plot(range(1,500,10), bst_expected_heights, color = 'red',label = 'BST', linewidth = 1.0)\n",
    "plt.plot(range(1,500,10), avl_expected_heights, color = 'blue',label = 'AVL', linewidth = 1.0)\n",
    "plt.xlabel('$N$', fontsize=10)\n",
    "plt.ylabel('Expected height', fontsize=10)\n",
    "plt.legend()"
   ]
  },
  {
   "cell_type": "code",
   "execution_count": null,
   "metadata": {},
   "outputs": [],
   "source": []
  }
 ],
 "metadata": {
  "kernelspec": {
   "display_name": "Python 3",
   "language": "python",
   "name": "python3"
  },
  "language_info": {
   "codemirror_mode": {
    "name": "ipython",
    "version": 3
   },
   "file_extension": ".py",
   "mimetype": "text/x-python",
   "name": "python",
   "nbconvert_exporter": "python",
   "pygments_lexer": "ipython3",
   "version": "3.7.0"
  }
 },
 "nbformat": 4,
 "nbformat_minor": 2
}
