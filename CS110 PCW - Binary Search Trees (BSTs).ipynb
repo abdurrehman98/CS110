{
 "cells": [
  {
   "cell_type": "markdown",
   "metadata": {},
   "source": [
    "Before you turn this problem in, make sure everything runs as expected. First, **restart the kernel** (in the menubar, select Kernel$\\rightarrow$Restart) and then **run all cells** (in the menubar, select Cell$\\rightarrow$Run All).\n",
    "\n",
    "Note that this Pre-class Work is estimated to take **37 minutes**.\n",
    "\n",
    "Make sure you fill in any place that says `YOUR CODE HERE` or \"YOUR ANSWER HERE\", as well as your name and collaborators below:"
   ]
  },
  {
   "cell_type": "code",
   "execution_count": 1,
   "metadata": {},
   "outputs": [],
   "source": [
    "NAME = \"MUHAMMAD ABDURREHMAN ASIF\"\n",
    "COLLABORATORS = \"\""
   ]
  },
  {
   "cell_type": "markdown",
   "metadata": {},
   "source": [
    "---"
   ]
  },
  {
   "cell_type": "markdown",
   "metadata": {
    "deletable": false,
    "editable": false,
    "nbgrader": {
     "checksum": "dcf331a073440fc878c931847bcad205",
     "grade": false,
     "grade_id": "cell-856b478addb28fe9",
     "locked": true,
     "schema_version": 1,
     "solution": false
    }
   },
   "source": [
    "# CS110 Pre-class Work - Binary Search Trees (BSTs)\n",
    "\n",
    "## Question 1. (Exercise 12.2-1, Cormen et al.) [time estimate: 5 minutes]\n",
    "\n",
    "Suppose that we have numbers between 1 and 1000 in a binary search tree, and we want to search for the number 363. Which of the following sequences could not be the sequence of nodes examined?\n",
    "\n",
    "a. 2, 252, 401, 398, 330, 344, 397, 363.\n",
    "\n",
    "b. 924, 220, 911, 244, 898, 258, 362, 363.\n",
    "\n",
    "c. 925, 202, 911, 240, 912, 245, 363.\n",
    "\n",
    "d. 2, 399, 387, 219, 266, 382, 381, 278, 363.\n",
    "\n",
    "e. 935, 278, 347, 621, 299, 392, 358, 363.\n"
   ]
  },
  {
   "cell_type": "markdown",
   "metadata": {
    "deletable": false,
    "nbgrader": {
     "checksum": "caad0ddbf7180e6e9f1cf54ef809d5a8",
     "grade": true,
     "grade_id": "cell-4ba31a88562b2669",
     "locked": false,
     "points": 0,
     "schema_version": 1,
     "solution": true
    }
   },
   "source": [
    "C and E.\n",
    "\n",
    "C is violated when the BST splits at 911 into 240 the smaller node and 912 the larger leaf, therefore the sequence of nodes has a split.\n",
    "\n",
    "E is violated when 347s children are split into 299 being smaller and 621 being larger."
   ]
  },
  {
   "cell_type": "markdown",
   "metadata": {
    "deletable": false,
    "editable": false,
    "nbgrader": {
     "checksum": "2608634a994745e8cabbc68e04197aeb",
     "grade": false,
     "grade_id": "cell-e2fe6a81a328e94e",
     "locked": true,
     "schema_version": 1,
     "solution": false
    }
   },
   "source": [
    "## Question 2. Comparing complexities [time estimate: 7 minutes]\n",
    "Complete the following table with the average vs worst case complexities for the data structures in each row.\n",
    "\n",
    "You should copy the following table and paste and edit it in the cell below. \n",
    "\n",
    "Operations | BST | Hash table using open addressing | Min heap\n",
    "--- | --- | --- | ---\n",
    "Search |  |  |\n",
    "Find max |  |  |\n",
    "Find min |  |  |\n",
    "Max extraction  |  |  |\n",
    "Min extraction |  |  |\n",
    "Find successor |  |  |\n",
    "Find predecessor |  |  |\n",
    "Insert |  |  |\n",
    "Delete |  |  |\n",
    "\n"
   ]
  },
  {
   "cell_type": "markdown",
   "metadata": {
    "deletable": false,
    "nbgrader": {
     "checksum": "b333dea7231946830dc83e0374b46384",
     "grade": true,
     "grade_id": "cell-103e7647a8a92a95",
     "locked": false,
     "points": 0,
     "schema_version": 1,
     "solution": true
    }
   },
   "source": [
    "Operations | BST | Hash table using open addressing | Min heap\n",
    "--- | --- | --- | ---\n",
    "Search |Ologn  |  |   O(n)\n",
    "Find max | Ologn |  |    O(n)\n",
    "Find min | Ologn |  |   O(1)\n",
    "Max extraction  |Ologn  |  | O(1) vs O(logn)\n",
    "Min extraction |  Ologn|  |  O(1)\n",
    "Find successor | Ologn |  | \n",
    "Find predecessor | Ologn |  |\n",
    "Insert | Ologn |  |  O(1) v O(logn)\n",
    "Delete | Ologn |  | O(logn)\n"
   ]
  },
  {
   "cell_type": "markdown",
   "metadata": {
    "deletable": false,
    "editable": false,
    "nbgrader": {
     "checksum": "350918858ed77bb73434c159714237a6",
     "grade": false,
     "grade_id": "cell-f0b8945e898ae4eb",
     "locked": true,
     "schema_version": 1,
     "solution": false
    }
   },
   "source": [
    "## Question 3. Programming a recursive BST [time estimate: 12 minutes]\n",
    "\n",
    "Given the code in the cell below, write python code for the corresponding functions:\n",
    "\n",
    "* function `search(self, value)`: searches a *non-empty* BST rooted at the node for a node with `data=value`, returns the node if found, None otherwise\n",
    "* function `delete(self, value)`: if a node with data = value is present in the tree rooted at Node, deletes that node and returns the root.\n",
    "* function `inorder(self)`: returns a list of all data in the tree rooted at root produced using an in order traversal. When correctly implemented on a BST, the produced list will be sorted in ascending order.\n",
    "\n",
    "You may find it useful to define additional helper functions.\n"
   ]
  },
  {
   "cell_type": "code",
   "execution_count": 2,
   "metadata": {
    "deletable": false,
    "nbgrader": {
     "checksum": "d30a8a11c0dc7730c76d82543f16814f",
     "grade": false,
     "grade_id": "cell-699ae21855637a38",
     "locked": false,
     "schema_version": 1,
     "solution": true
    }
   },
   "outputs": [],
   "source": [
    "## Binary Search Tree\n",
    "##\n",
    "class Node:\n",
    "    def __init__(self, val):\n",
    "        self.l_child = None\n",
    "        self.r_child = None\n",
    "        self.parent = None\n",
    "        self.data = val\n",
    "\n",
    "    def insert(self, node):\n",
    "        \"\"\"inserts a node into a *non-empty* tree rooted at the node, returns\n",
    "        the root\"\"\"\n",
    "        if self.data > node.data:\n",
    "            if self.l_child is None:\n",
    "                self.l_child = node\n",
    "                node.parent = self\n",
    "            else:\n",
    "                self.l_child.insert(node)\n",
    "        else:\n",
    "            if self.r_child is None:\n",
    "                self.r_child = node\n",
    "                node.parent = self\n",
    "            else:\n",
    "                self.r_child.insert(node)\n",
    "        return self\n",
    "    \n",
    "    def minimum(self):\n",
    "        node = self\n",
    "        while node.l_child != None:\n",
    "            node = node.l_child\n",
    "        return node\n",
    "\n",
    "    def search_data(self, value):\n",
    "        \"\"\"searches a *non-empty* tree rooted at the node for a node with\n",
    "        data = value, returns the value if found, None otherwise\"\"\"\n",
    "        node = self.search(value)\n",
    "        if node:\n",
    "            return node.data\n",
    "        else:\n",
    "            return node\n",
    "        \n",
    "    def to_string(self): \n",
    "        print('self.data', self.data)\n",
    "        root=self\n",
    "        if not root: \n",
    "            return 'Nil'\n",
    "        else: \n",
    "            r = root.r_child.to_string() if root.r_child else 'Nil'\n",
    "            l = root.l_child.to_string() if root.l_child else 'Nil'\n",
    "        return 'Node(' + str(root.data) + ' L: ' + l + ' R: ' + r + ')'\n",
    "    \n",
    "    \n",
    "    \n",
    "    def search(self, value):\n",
    "        node = self\n",
    "        if node == None or value == node.data:   #returns root node in required or empty case\n",
    "            return node\n",
    "        \n",
    "        elif value < node.data and node.l_child != None: #recursively calls method on left side\n",
    "            return node.l_child.search(value)\n",
    "        \n",
    "        elif value > node.data and node.r_child != None: #recursively searches right side\n",
    "            return node.r_child.search(value) \n",
    "        return None \n",
    "  \n",
    "\n",
    "    def transplant(self, u, v): #assisting with deleting\n",
    "        node = self             #assign node as the self val\n",
    "        if u.parent == None:    #edge case\n",
    "            node = v\n",
    "            \n",
    "        elif u == u.parent.l_child:  #transplants root v with root u following BST properties\n",
    "            u.parent.l_child = v\n",
    "        else: \n",
    "            u.parent.r_child = v\n",
    "        if v != None:\n",
    "            v.parent = u.parent\n",
    "        return node\n",
    "    \n",
    "    def inorder(self):\n",
    "        if self.data!=None:   #edge case\n",
    "            if self.l_child!=None:\n",
    "                self.l_child.inorder()   #verifies left side is following BST properties\n",
    "            if self.r_child!=None: \n",
    "                self.r_child.inorder()   #verifies right side is following BST properties\n",
    "\n",
    "    def delete(self, value):\n",
    "        z = self.search(value)                    #node we wish to delete\n",
    "        if z!= None and z.l_child == None: \n",
    "            self = self.transplant(z, z.r_child)   #replaces node with right child\n",
    "        elif z!= None and z.r_child == None:\n",
    "            self = self.transplant(z,z.l_child)   #if right child doesn't exist, replace with left child\n",
    "        else:\n",
    "            y = z.r_child.minimum()               #find successor\n",
    "            if y.parent != z:\n",
    "                self = self.transplant(y,y.r_child)   #in the case of having both child nodes\n",
    "                y.r_child = z.r_child\n",
    "                y.r_child.parent = y\n",
    "            self = self.transplant(z,y)\n",
    "            y.l_child = z.l_child\n",
    "            y.l_child.parent = y\n",
    "        return self"
   ]
  },
  {
   "cell_type": "markdown",
   "metadata": {
    "deletable": false,
    "editable": false,
    "nbgrader": {
     "checksum": "8b126b45ed170734c6d243dbde6ec892",
     "grade": false,
     "grade_id": "cell-6e99c15ebbccbcff",
     "locked": true,
     "schema_version": 1,
     "solution": false
    }
   },
   "source": [
    "## Question 4. Validating the BST python code [time estimate: 13 minutes]\n",
    "\n",
    "### Question 4a [time estimate: 3 minutes]\n",
    "\n",
    "It is good practice to make the necessary tests in your code to ensure it produces the intended outputs. In the cells below, implement slow, but simple:\n",
    "* inserts,\n",
    "* searches,\n",
    "* deletes.\n"
   ]
  },
  {
   "cell_type": "code",
   "execution_count": 31,
   "metadata": {
    "deletable": false,
    "nbgrader": {
     "checksum": "2e246944222ceb6db976ba1af84f791a",
     "grade": false,
     "grade_id": "cell-8ffe02954ab45b77",
     "locked": false,
     "schema_version": 1,
     "solution": true
    }
   },
   "outputs": [],
   "source": [
    "def list_insert(lst, value):\n",
    "    \"\"\"inserts value into lst in sorted order\"\"\"\n",
    "    lst.append(value)\n",
    "    return (sorted(lst))\n",
    "\n",
    "\n"
   ]
  },
  {
   "cell_type": "code",
   "execution_count": 47,
   "metadata": {
    "deletable": false,
    "nbgrader": {
     "checksum": "99cadda3119181ec5d6c967d7ea15090",
     "grade": false,
     "grade_id": "cell-0e246c5c19ef7b80",
     "locked": false,
     "schema_version": 1,
     "solution": true
    }
   },
   "outputs": [],
   "source": [
    "def list_delete(lst, value):\n",
    "    \"\"\" deletes first instance of value from lst if it present\"\"\"\n",
    "    for i in lst: \n",
    "        if value == i:\n",
    "            del i \n",
    "    \n",
    "    return lst\n"
   ]
  },
  {
   "cell_type": "code",
   "execution_count": 7,
   "metadata": {
    "deletable": false,
    "nbgrader": {
     "checksum": "024018f03e113eced89d464c96d522f6",
     "grade": false,
     "grade_id": "cell-f6b55b9878c6fdf1",
     "locked": false,
     "schema_version": 1,
     "solution": true
    }
   },
   "outputs": [],
   "source": [
    "def list_search(lst, value): \n",
    "    \"\"\" searches lst for value and returns value if present, None if it is not present\"\"\"\n",
    "    for i in lst:\n",
    "        if i == value:\n",
    "            return True\n",
    "        else:\n",
    "            return False\n",
    "        "
   ]
  },
  {
   "cell_type": "markdown",
   "metadata": {
    "deletable": false,
    "editable": false,
    "nbgrader": {
     "checksum": "4b67b5285b803538fc34c696acb4fce3",
     "grade": false,
     "grade_id": "cell-50a5730f995c1ec5",
     "locked": true,
     "schema_version": 1,
     "solution": false
    }
   },
   "source": [
    "### Question 4b [time estimate: 10 minutes]\n",
    "Run the testing code provided in the cell below to generate a sequence of random inserts, followed by a sequence of random deletes, and finally followed by a sequence of random searches. Apply this sequence to both your BST implementation and the sorted list implementation. Do the final results both match? Does this mean your code is free of bugs? Provide your answer to these questions in the cell below the Python-code cell."
   ]
  },
  {
   "cell_type": "code",
   "execution_count": 8,
   "metadata": {},
   "outputs": [
    {
     "name": "stdout",
     "output_type": "stream",
     "text": [
      "###################\n",
      "Inserting the following node:  2\n",
      "self.data 2\n",
      "Node(2 L: Nil R: Nil)\n",
      "###################\n",
      "Inserting the following node:  3\n",
      "self.data 2\n",
      "self.data 3\n",
      "Node(2 L: Nil R: Node(3 L: Nil R: Nil))\n",
      "###################\n",
      "Inserting the following node:  5\n",
      "self.data 2\n",
      "self.data 3\n",
      "self.data 5\n",
      "Node(2 L: Nil R: Node(3 L: Nil R: Node(5 L: Nil R: Nil)))\n",
      "###################\n",
      "Inserting the following node:  1\n",
      "self.data 2\n",
      "self.data 3\n",
      "self.data 5\n",
      "self.data 1\n",
      "Node(2 L: Node(1 L: Nil R: Nil) R: Node(3 L: Nil R: Node(5 L: Nil R: Nil)))\n"
     ]
    }
   ],
   "source": [
    "bst = None # bst is a misnormer, this variable contains the Node that is the root of the BST of interest\n",
    "lst = []\n",
    "\n",
    "my_Nodes = [2, 3, 5, 1]\n",
    "for x in [Node(_) for _ in my_Nodes]:\n",
    "    print(\"###################\")\n",
    "    print('Inserting the following node: ', x.data)\n",
    "    if not bst:\n",
    "        bst = x\n",
    "    else:\n",
    "        bst = bst.insert(x)\n",
    "    print(bst.to_string())\n",
    "    "
   ]
  },
  {
   "cell_type": "code",
   "execution_count": 36,
   "metadata": {
    "deletable": false,
    "nbgrader": {
     "checksum": "f4207134a8d246d41f1b002c079e5d59",
     "grade": false,
     "grade_id": "cell-ebddd4da79a3da28",
     "locked": false,
     "schema_version": 1,
     "solution": true
    }
   },
   "outputs": [
    {
     "name": "stdout",
     "output_type": "stream",
     "text": [
      "[-77, -43, -41, 1, 1, 1, 1, 1, 2, 3, 4, 5, 5, 8, 10, 13, 15, 17, 23, 28, 31, 36, 37, 40, 43, 43, 50, 56, 59, 60, 63, 66, 68, 68, 71, 73, 76, 77, 79, 79, 81, 86, 95, 98, 98, 98]\n",
      "self.data 2\n",
      "self.data 3\n",
      "self.data 5\n",
      "self.data 17\n",
      "self.data 87\n",
      "self.data 32\n",
      "self.data 37\n",
      "self.data 79\n",
      "self.data 4\n",
      "self.data 1\n"
     ]
    }
   ],
   "source": [
    "#random\n",
    "import random as random\n",
    "lst1 = my_Nodes\n",
    "insert = 1\n",
    "value = [random.randint(0,100) for i in range(insert)]\n",
    "for i in value:\n",
    "    lst = list_insert(lst,i)\n",
    "    print(lst)\n",
    "for i in value:\n",
    "    original = bst.to_string()\n",
    "    bst.insert(Node(i))"
   ]
  },
  {
   "cell_type": "code",
   "execution_count": null,
   "metadata": {},
   "outputs": [],
   "source": []
  },
  {
   "cell_type": "markdown",
   "metadata": {
    "deletable": false,
    "nbgrader": {
     "checksum": "11743c20bdd473ed59d8b90c514f6176",
     "grade": true,
     "grade_id": "cell-1af64135f3359698",
     "locked": false,
     "points": 0,
     "schema_version": 1,
     "solution": true
    }
   },
   "source": [
    "The code works fine and after running some tests I figured out that the code I generated of the individual components is very buggy and has certain issues. Such as my code for deletion which does not delete the appropriate value unless a specific input is given. It also has an iteration error for certain kinds of inputs\""
   ]
  },
  {
   "cell_type": "code",
   "execution_count": null,
   "metadata": {},
   "outputs": [],
   "source": []
  }
 ],
 "metadata": {
  "celltoolbar": "Edit Metadata",
  "kernelspec": {
   "display_name": "Python 3",
   "language": "python",
   "name": "python3"
  },
  "language_info": {
   "codemirror_mode": {
    "name": "ipython",
    "version": 3
   },
   "file_extension": ".py",
   "mimetype": "text/x-python",
   "name": "python",
   "nbconvert_exporter": "python",
   "pygments_lexer": "ipython3",
   "version": "3.7.0"
  }
 },
 "nbformat": 4,
 "nbformat_minor": 2
}
