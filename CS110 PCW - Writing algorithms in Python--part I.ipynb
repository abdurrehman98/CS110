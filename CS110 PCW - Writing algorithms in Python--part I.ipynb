{
 "cells": [
  {
   "cell_type": "markdown",
   "metadata": {},
   "source": [
    "Before you turn this problem in, make sure everything runs as expected. First, **restart the kernel** (in the menubar, select Kernel$\\rightarrow$Restart) and then **run all cells** (in the menubar, select Cell$\\rightarrow$Run All).\n",
    "\n",
    "Note that this Pre-class Work is estimated to take **26 minutes**.\n",
    "\n",
    "Make sure you fill in any place that says `YOUR CODE HERE` or \"YOUR ANSWER HERE\", as well as your name and collaborators below:"
   ]
  },
  {
   "cell_type": "code",
   "execution_count": 43,
   "metadata": {},
   "outputs": [],
   "source": [
    "NAME = \"MUHAMMAD ABDURREHMAN ASIF\"\n",
    "COLLABORATORS = \"\""
   ]
  },
  {
   "cell_type": "markdown",
   "metadata": {},
   "source": [
    "---"
   ]
  },
  {
   "cell_type": "markdown",
   "metadata": {
    "deletable": false,
    "editable": false,
    "nbgrader": {
     "checksum": "df135f0c4ea26cc7c0b25cb64a20e634",
     "grade": false,
     "grade_id": "cell-b46066345313bea6",
     "locked": true,
     "schema_version": 1,
     "solution": false
    }
   },
   "source": [
    "# CS110 Pre-class Work - Writing algorithms in Python--part I\n",
    "\n",
    "## Question 1 [time estimate: 10 minutes]\n",
    "\n",
    "Palindromes are a sequence of characters (words, phrases, numbers) that can be read the same both from left to right and from right to left. Examples of palindromes include the word 'madam' and the number 12321.\n",
    "\n",
    "1. Explain how you would use an iterative approach, step by step, to check whether a word is a palindrome.\n",
    "2. Explain also how you would approach this problem using a recursive solution.\n",
    "\n",
    "You can use palindromic and non-palindromic words to assist your explanation. "
   ]
  },
  {
   "cell_type": "markdown",
   "metadata": {
    "deletable": false,
    "nbgrader": {
     "checksum": "104f443d240e2139d778711f6bc0a766",
     "grade": true,
     "grade_id": "cell-3bac59ff24b11a27",
     "locked": false,
     "points": 0,
     "schema_version": 1,
     "solution": true
    }
   },
   "source": [
    "1.  Iteratively, solving this problem is very intuitive. First we have to define certain local variables. These will be \n",
    "    necessary since the iteration will require a range so it runs til a point as well as defines one of the iterative\n",
    "    outcomes such that we get our required result upon the code working appropriately. Next, we will compare the first and\n",
    "    last letters of the input iteratively, keeping the outcome constant if the comparison is okay and breaking the loop\n",
    "    if the comparison shows discrepancy\n",
    "    \n",
    "    So, step by step:\n",
    "    Define the function\n",
    "    Define the local variables for the middle letter and the output being True\n",
    "    Write a for loop that runs through the range until the midpoint we set up\n",
    "    Compare the first and last letter using the for loop, keep it running if both letters are the same\n",
    "    Break once they are not the same, or until midpoint is reached\n",
    "    \n",
    "\n",
    "\n",
    "2.  From a recursive point of view, a different approach has to be used. First of all, we need to set up the base case.\n",
    "    Once set up, we can then take the approach of closing down on the spring from it's first and last elements. The only\n",
    "    implications we need to be careful are, 1- the recursion will continue til only 1 or 0 elements are left, or 2, the\n",
    "    recursion must occur until one of the pairs of elements do not match.\n",
    "    \n",
    "    So, step by step:\n",
    "    Check whether word has less than 2 letters, if not\n",
    "    Check whether first and last letters are the same, \n",
    "    recursively repeat the function for the next set of first and last letters\n",
    "    return true if base case is achieved, false if otherwise"
   ]
  },
  {
   "cell_type": "markdown",
   "metadata": {
    "deletable": false,
    "editable": false,
    "nbgrader": {
     "checksum": "7872c2d656a6cb3aaeff2b4fa41eb204",
     "grade": false,
     "grade_id": "cell-0ca65d04b209f37f",
     "locked": true,
     "schema_version": 1,
     "solution": false
    }
   },
   "source": [
    "## Question 2 [time estimate: 3 minutes]\n",
    "\n",
    "How would you prevent your recursive solution from running forever? In other words, what is the base case of your recursive approach?"
   ]
  },
  {
   "cell_type": "markdown",
   "metadata": {
    "deletable": false,
    "nbgrader": {
     "checksum": "4ff5af35daed9a5442ba229263bdde33",
     "grade": true,
     "grade_id": "cell-442998d5fdd8b561",
     "locked": false,
     "points": 0,
     "schema_version": 1,
     "solution": true
    }
   },
   "source": [
    "The base case I set up is the word having less than 2 letters remaining. Since our code is convergent in nature, we will observe the letters being compared and the midpoint drawing closer. If it is an even-lettered word, we will see 0 letters remain and base case being achieved, if it is odd we will see only 1 letter remain and base case being achieved. Thus, if all other letters are palindromic, the final letter does not change anything."
   ]
  },
  {
   "cell_type": "markdown",
   "metadata": {
    "deletable": false,
    "editable": false,
    "nbgrader": {
     "checksum": "9d7a3b260b0fef93382fb52aa393f963",
     "grade": false,
     "grade_id": "cell-0ac1c20b43acb363",
     "locked": true,
     "schema_version": 1,
     "solution": false
    }
   },
   "source": [
    "## Question 3 [time estimate: 3 minutes]\n",
    "\n",
    "Is there a base case in an iterative approach? Why or why not?"
   ]
  },
  {
   "cell_type": "markdown",
   "metadata": {
    "deletable": false,
    "nbgrader": {
     "checksum": "eb02c9951e19ee43d128fa93dd53eaad",
     "grade": true,
     "grade_id": "cell-5ecb51404140cb2f",
     "locked": false,
     "points": 0,
     "schema_version": 1,
     "solution": true
    }
   },
   "source": [
    "Since iteration is repetitive in nature and not selective, there has to be certain inputs given to the program to ensure it does not keep running forever. This is not a base case, however, since the function terminates once the loop continuation condition fails; more simply, the loop completes the job it was given to do within the parameters identified. "
   ]
  },
  {
   "cell_type": "markdown",
   "metadata": {
    "deletable": false,
    "editable": false,
    "nbgrader": {
     "checksum": "cb0b8b9c4b153530d47b437baa24098d",
     "grade": false,
     "grade_id": "cell-b22dce6b32afe1a9",
     "locked": true,
     "schema_version": 1,
     "solution": false
    }
   },
   "source": [
    "## Question 4 [time estimate: 10 minutes]\n",
    "\n",
    "Given the algorithmic strategies you described in question 1, you will now implement these in Python code. Write a function for the iterative approach (using either a `for` or a `while` loop) and another function for the recursive approach. Both functions should return `True` if the provided word is a palindrome, and `False` if the word is not. \n",
    "\n",
    "Validate the correctness of your code by providing examples of words that can be used as test cases. Be prepared to paste your functions and Palindrome words you searched into a Minerva workbook during class."
   ]
  },
  {
   "cell_type": "code",
   "execution_count": 44,
   "metadata": {
    "deletable": false,
    "nbgrader": {
     "checksum": "16ff8874250907a794fdd3fa6c13bbec",
     "grade": false,
     "grade_id": "cell-b709733c96d8b615",
     "locked": false,
     "schema_version": 1,
     "solution": true
    }
   },
   "outputs": [
    {
     "data": {
      "text/plain": [
       "True"
      ]
     },
     "execution_count": 44,
     "metadata": {},
     "output_type": "execute_result"
    }
   ],
   "source": [
    "def is_palindrome_iterative(word):\n",
    "    \"\"\"\n",
    "    This function identifies whether a word is a palindrome iteratively.\n",
    "\n",
    "    Parameters\n",
    "    ----------\n",
    "    word : str\n",
    "        Word we wish to check\n",
    "    \n",
    "    Returns\n",
    "    -------\n",
    "    bool\n",
    "        True if input is a palindrome, False otherwise\n",
    "        \n",
    "    \"\"\"\n",
    "  \n",
    "    #initiating 2 of the variables we will call up in the function\n",
    "    middle = len(word)//2\n",
    "    output = True\n",
    "    \n",
    "    for i in range(0,middle):  #for loop to run iteration, range is defined in a convergent function uptil the middle element\n",
    "      \n",
    "        first = word[i]             #the first variable we will compare\n",
    "        last = word[len(word)-i-1]  #initiating the second variable, and adding in 'i' to run iteration until break\n",
    "        if first!=last:             #condition which shows word is not palindrome\n",
    "            output =False\n",
    "            break\n",
    "            \n",
    "    return output    \n",
    "    raise NotImplementedError()\n",
    "    \n",
    "is_palindrome_iterative('abba')"
   ]
  },
  {
   "cell_type": "code",
   "execution_count": 46,
   "metadata": {
    "deletable": false,
    "nbgrader": {
     "checksum": "16ff8874250907a794fdd3fa6c13bbec",
     "grade": false,
     "grade_id": "cell-b709733c96d8b615",
     "locked": false,
     "schema_version": 1,
     "solution": true
    }
   },
   "outputs": [
    {
     "data": {
      "text/plain": [
       "True"
      ]
     },
     "execution_count": 46,
     "metadata": {},
     "output_type": "execute_result"
    }
   ],
   "source": [
    "def is_palindrome_recursive(word):\n",
    "    \"\"\"\n",
    "    This function identifies whether a word is a palindrome recursively.\n",
    "\n",
    "    Parameters\n",
    "    ----------\n",
    "    word : abba\n",
    "        Word we wish to check\n",
    "    \n",
    "    Returns\n",
    "    -------\n",
    "    boolean\n",
    "        True if input is a palindrome, False otherwise\n",
    "        \n",
    "    \"\"\"\n",
    "    #YOUR CODE HERE\n",
    "   \n",
    "    if len(word) < 2:   #if only one letter, then obviously palindrome\n",
    "        return True\n",
    "    if word[0] != word[-1]:  #for it to be a palindrome, the first and last letter need to be the same\n",
    "        return False         \n",
    "    #print(word[0])   uncomment to take a deeper look into the recursion occuring\n",
    "    #print(word[-1])\n",
    "    return is_palindrome_recursive(word[1:-1])  #this is the recursive part that takes the string as a variable and compares it\n",
    "                                                #to the corresponding input and as long as we do not reach \"false\" it continues running\n",
    "   \n",
    "    raise NotImplementedError()\n",
    "    \n",
    "\n",
    "is_palindrome_recursive(\"settes\")"
   ]
  },
  {
   "cell_type": "code",
   "execution_count": null,
   "metadata": {},
   "outputs": [],
   "source": []
  }
 ],
 "metadata": {
  "celltoolbar": "Edit Metadata",
  "kernelspec": {
   "display_name": "Python 3",
   "language": "python",
   "name": "python3"
  },
  "language_info": {
   "codemirror_mode": {
    "name": "ipython",
    "version": 3
   },
   "file_extension": ".py",
   "mimetype": "text/x-python",
   "name": "python",
   "nbconvert_exporter": "python",
   "pygments_lexer": "ipython3",
   "version": "3.7.0"
  }
 },
 "nbformat": 4,
 "nbformat_minor": 2
}
