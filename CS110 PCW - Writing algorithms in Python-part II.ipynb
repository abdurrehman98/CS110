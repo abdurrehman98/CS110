{
 "cells": [
  {
   "cell_type": "markdown",
   "metadata": {},
   "source": [
    "Before you turn this problem in, make sure everything runs as expected. First, **restart the kernel** (in the menubar, select Kernel$\\rightarrow$Restart) and then **run all cells** (in the menubar, select Cell$\\rightarrow$Run All).\n",
    "\n",
    "Note that this Pre-class Work is estimated to take **38 minutes**.\n",
    "\n",
    "Make sure you fill in any place that says `YOUR CODE HERE` or \"YOUR ANSWER HERE\", as well as your name and collaborators below:"
   ]
  },
  {
   "cell_type": "code",
   "execution_count": null,
   "metadata": {},
   "outputs": [],
   "source": [
    "NAME = \"Muhammad Abdurrehman Asif\"\n",
    "COLLABORATORS = \"\""
   ]
  },
  {
   "cell_type": "markdown",
   "metadata": {},
   "source": [
    "---"
   ]
  },
  {
   "cell_type": "markdown",
   "metadata": {
    "deletable": false,
    "editable": false,
    "nbgrader": {
     "checksum": "df135f0c4ea26cc7c0b25cb64a20e634",
     "grade": false,
     "grade_id": "cell-b46066345313bea6",
     "locked": true,
     "schema_version": 1,
     "solution": false
    }
   },
   "source": [
    "# CS110 Pre-class Work - Writing algorithms in Python--part II\n",
    "\n",
    "## Question 1 [time estimate: 3 minutes]\n",
    "\n",
    "Why would you use a class with its methods and attributes rather than defining a function in the main block of your code? Feel free to use the examples given in the Study Guide, or feel free to provide your own."
   ]
  },
  {
   "cell_type": "markdown",
   "metadata": {
    "deletable": false,
    "nbgrader": {
     "checksum": "104f443d240e2139d778711f6bc0a766",
     "grade": true,
     "grade_id": "cell-3bac59ff24b11a27",
     "locked": false,
     "points": 0,
     "schema_version": 1,
     "solution": true
    }
   },
   "source": [
    "Using a class with its methods and attributes means that we increase the flexibility of the function we are trying to write. Rather than keeping the code rigid and somewhat dependent on the appropriateness of the type of input we get, the class method can be used to make sure the code can be applied on a broad range - if not all - relevant inputs. Following from the car function described in the study guide, we can create a function which can count calories in different types of food, which would be hard to do with normal functions who we'd need to specify what type of foods it would accept\n"
   ]
  },
  {
   "cell_type": "markdown",
   "metadata": {
    "deletable": false,
    "editable": false,
    "nbgrader": {
     "checksum": "7872c2d656a6cb3aaeff2b4fa41eb204",
     "grade": false,
     "grade_id": "cell-0ca65d04b209f37f",
     "locked": true,
     "schema_version": 1,
     "solution": false
    }
   },
   "source": [
    "## Question 2 [time estimate: 3 minutes]\n",
    "\n",
    "What are the benefits of having instance attributes? Explain your answer."
   ]
  },
  {
   "cell_type": "markdown",
   "metadata": {
    "deletable": false,
    "nbgrader": {
     "checksum": "4ff5af35daed9a5442ba229263bdde33",
     "grade": true,
     "grade_id": "cell-442998d5fdd8b561",
     "locked": false,
     "points": 0,
     "schema_version": 1,
     "solution": true
    }
   },
   "source": [
    "Instance attributes allow us to initialize a wide range of arguments to our function, however they may be. We can specify their parameters and store them with all their varying attributes."
   ]
  },
  {
   "cell_type": "markdown",
   "metadata": {
    "deletable": false,
    "editable": false,
    "nbgrader": {
     "checksum": "9d7a3b260b0fef93382fb52aa393f963",
     "grade": false,
     "grade_id": "cell-0ac1c20b43acb363",
     "locked": true,
     "schema_version": 1,
     "solution": false
    }
   },
   "source": [
    "## Question 3 [time estimate: 3 minutes]\n",
    "\n",
    "Why would you want to introduce these attributes inside the `__init__` method rather than in another place like a method of its own? Explain your answer."
   ]
  },
  {
   "cell_type": "markdown",
   "metadata": {
    "deletable": false,
    "nbgrader": {
     "checksum": "eb02c9951e19ee43d128fa93dd53eaad",
     "grade": true,
     "grade_id": "cell-5ecb51404140cb2f",
     "locked": false,
     "points": 0,
     "schema_version": 1,
     "solution": true
    }
   },
   "source": [
    "Because we need to specify all the attributes during the intialization. After the class and initialization has been done, we can manipulate these parameters and create some sort of functions within the class. These functions will depend on everything specified in the class and be much more efficient that way"
   ]
  },
  {
   "cell_type": "markdown",
   "metadata": {
    "deletable": false,
    "editable": false,
    "nbgrader": {
     "checksum": "cb0b8b9c4b153530d47b437baa24098d",
     "grade": false,
     "grade_id": "cell-b22dce6b32afe1a9",
     "locked": true,
     "schema_version": 1,
     "solution": false
    }
   },
   "source": [
    "## Question 4 [time estimate: 7 minutes]\n",
    "\n",
    "Write a Python class, called `Minervan`, where an instance of this class should represent a Minerva student.\n",
    "\n",
    "For example, Jake is a Minerva student that we want to represent using this class. He is 22 years old, originally from Australia, and is on the class of 2022. He is majoring in Computational Sciences. \n",
    "\n",
    "In the following code cell, write your `Minervan` class, which should contain relevant methods and attributes you can come up with. Justify your choice of methods and attributes in the markdown cell below."
   ]
  },
  {
   "cell_type": "code",
   "execution_count": 23,
   "metadata": {
    "deletable": false,
    "nbgrader": {
     "checksum": "eb02c9951e19ee43d128fa93dd53eaad",
     "grade": true,
     "grade_id": "cell-5ecb51404140cb2f",
     "locked": false,
     "points": 0,
     "schema_version": 1,
     "solution": true
    }
   },
   "outputs": [
    {
     "data": {
      "text/plain": [
       "23"
      ]
     },
     "execution_count": 23,
     "metadata": {},
     "output_type": "execute_result"
    }
   ],
   "source": [
    "class Minervan:\n",
    "    \n",
    "    def __init__(self, age, country, year, major):\n",
    "        self.age = age\n",
    "        self.country = country\n",
    "        self.year = year\n",
    "        self.major = major\n",
    "        \n",
    "    def graduation_age(self,age):\n",
    "        self.age += 4\n",
    "        return self.age\n",
    "    \n",
    "    def rotation(self,year):\n",
    "        if year == 2022: \n",
    "            return \"Freshman\"\n",
    "        elif year == 2021:\n",
    "            return \"Sophomore\"\n",
    "        elif year == 2020:\n",
    "            return \"Junior\"\n",
    "        elif year == 2019:\n",
    "            return \"Senior\"\n",
    "        else:\n",
    "            return \"Graduated\"\n",
    "        \n",
    "Jake = Minervan(19, \"Australia\", 2022, \"Computational Science\")\n",
    "\n",
    "Jake.graduation_age(19)\n",
    "#Jake.rotation(2022)\n"
   ]
  },
  {
   "cell_type": "markdown",
   "metadata": {
    "deletable": false,
    "nbgrader": {
     "checksum": "eb02c9951e19ee43d128fa93dd53eaad",
     "grade": true,
     "grade_id": "cell-5ecb51404140cb2f",
     "locked": false,
     "points": 0,
     "schema_version": 1,
     "solution": true
    }
   },
   "source": [
    "I gave the attributes specified in the question, the age, country, class year and the major. All of this information can be used one way or the other. I currently am using the class year to determine what stage of college the student is, and the age to determine how old they'll be once they graduate."
   ]
  },
  {
   "cell_type": "markdown",
   "metadata": {
    "deletable": false,
    "editable": false,
    "nbgrader": {
     "checksum": "cb0b8b9c4b153530d47b437baa24098d",
     "grade": false,
     "grade_id": "cell-b22dce6b32afe1a9",
     "locked": true,
     "schema_version": 1,
     "solution": false
    }
   },
   "source": [
    "## Question 5 [time estimate: 7 minutes]\n",
    "\n",
    "Now add another student, named 'Anitha', as an instance of this class. Choose the relevant attributes for this new student. Which question took you longer to answer—Q4 or Q5? Why?"
   ]
  },
  {
   "cell_type": "code",
   "execution_count": 24,
   "metadata": {
    "deletable": false,
    "nbgrader": {
     "checksum": "eb02c9951e19ee43d128fa93dd53eaad",
     "grade": true,
     "grade_id": "cell-5ecb51404140cb2f",
     "locked": false,
     "points": 0,
     "schema_version": 1,
     "solution": true
    }
   },
   "outputs": [
    {
     "data": {
      "text/plain": [
       "'Sophomore'"
      ]
     },
     "execution_count": 24,
     "metadata": {},
     "output_type": "execute_result"
    }
   ],
   "source": [
    "Anitha = Minervan(20, \"South Africa\", 2021, \"Business\")\n",
    "Anitha.rotation(2021)"
   ]
  },
  {
   "cell_type": "markdown",
   "metadata": {
    "deletable": false,
    "editable": false,
    "nbgrader": {
     "checksum": "cb0b8b9c4b153530d47b437baa24098d",
     "grade": false,
     "grade_id": "cell-b22dce6b32afe1a9",
     "locked": true,
     "schema_version": 1,
     "solution": false
    }
   },
   "source": [
    "## Question 6 [time estimate: 15 minutes] \n",
    "\n",
    "During the session, we will work on the challenging task of computing the course grade for a student given the grades he/she received in each LOs. \n",
    "\n",
    "The algorithm to follow is as follows:\n",
    "\n",
    "Terminology:\n",
    "LO = Learning Objective\n",
    "CO = Course Objective\n",
    "CG = Course Grade\n",
    "\n",
    "Algorithm for computing CGs:\n",
    "1. We first consider the LO grades within each course objective (CO), and compute the weighted mean (using each of the relevant LO grades and corresponding weights). Each course objective will now have an average grade.\n",
    "2. We then compute the average of the COs, to get the CG.\n",
    "\n",
    "We're only going to compute the course grades for Jake, at least for now.\n",
    "\n",
    "\n",
    "### Question 6a\n",
    "\n",
    "In this course there is only 1 course objective called A. Given the grades Jake received for each LO presented on the table below, compute his current course grade manually, following the algorithm above.\n",
    "\n",
    "\n",
    "CO | LO | Weight | Grade | CO Grade\n",
    "--- | --- | --- | --- | ---\n",
    "A | alpha | 1 | 3 |\n",
    "A | alpha | 2 | 2 |\n",
    "A | beta  | 1 | 4 |\n",
    "A | beta  | 2 | 3 |\n",
    "A | beta  | 3 | 2 |\n",
    "A | beta  | 1 | 3 |"
   ]
  },
  {
   "cell_type": "markdown",
   "metadata": {
    "deletable": false,
    "nbgrader": {
     "checksum": "eb02c9951e19ee43d128fa93dd53eaad",
     "grade": true,
     "grade_id": "cell-5ecb51404140cb2f",
     "locked": false,
     "points": 0,
     "schema_version": 1,
     "solution": true
    }
   },
   "source": [
    "LO Alpha = grade = 3+4 = 7, total weight = 3\n",
    "Lo Beta = grade = 4+6+6+3 = 19, total weight = 7\n",
    "\n",
    "so, gpa = Lo alpha gpa + lo beta gpa / 2\n",
    "\n",
    "7/3 = 2.33, 19/7 = 2.71\n",
    "\n",
    "2.33+2.71/2 = 2.52 which is the CO grade\n"
   ]
  },
  {
   "cell_type": "markdown",
   "metadata": {
    "deletable": false,
    "editable": false,
    "nbgrader": {
     "checksum": "cb0b8b9c4b153530d47b437baa24098d",
     "grade": false,
     "grade_id": "cell-b22dce6b32afe1a9",
     "locked": true,
     "schema_version": 1,
     "solution": false
    }
   },
   "source": [
    "### Question 6b\n",
    "\n",
    "The academic team has now introduced an extra course objective, B, and Jake has just received a grade for an LO belonging to this new CO. Compute, manually, what his current course grade is.\n",
    "\n",
    "CO | LO | Weight | Grade | CO Grade | Course Grade\n",
    "--- | --- | --- | --- | --- | ---\n",
    "A | alpha | 1 | 3 |\n",
    "A | alpha | 2 | 2 |\n",
    "A | beta  | 1 | 4 |\n",
    "A | beta  | 2 | 3 |\n",
    "A | beta  | 3 | 2 |\n",
    "A | beta  | 1 | 3 |\n",
    "B | gamma | 2 | 5 |\n",
    "\n",
    "What is the impact of this new LO grade? "
   ]
  },
  {
   "cell_type": "markdown",
   "metadata": {
    "deletable": false,
    "nbgrader": {
     "checksum": "eb02c9951e19ee43d128fa93dd53eaad",
     "grade": true,
     "grade_id": "cell-5ecb51404140cb2f",
     "locked": false,
     "points": 0,
     "schema_version": 1,
     "solution": true
    }
   },
   "source": [
    "Now we have 2 new scores on a completely new CO. \n",
    "CO A grade = 2.52,\n",
    "CO B grade = 10/2 = 5\n",
    "\n",
    "CO grade = 2.52 + 5 / 2 = 3.76 GPA"
   ]
  },
  {
   "cell_type": "markdown",
   "metadata": {
    "deletable": false,
    "editable": false,
    "nbgrader": {
     "checksum": "cb0b8b9c4b153530d47b437baa24098d",
     "grade": false,
     "grade_id": "cell-b22dce6b32afe1a9",
     "locked": true,
     "schema_version": 1,
     "solution": false
    }
   },
   "source": [
    "### Question 6c\n",
    "\n",
    "Describe here, using at least 100 words, how you would perform this calculation using a Python class."
   ]
  },
  {
   "cell_type": "markdown",
   "metadata": {
    "deletable": false,
    "nbgrader": {
     "checksum": "eb02c9951e19ee43d128fa93dd53eaad",
     "grade": true,
     "grade_id": "cell-5ecb51404140cb2f",
     "locked": false,
     "points": 0,
     "schema_version": 1,
     "solution": true
    }
   },
   "source": [
    "I would build a python class that takes the CO, LO, weight, Grade, CO Grade and course grade as the initialization.\n",
    "After this, I would write specific functions within the class that calculate grades for the LO's based on the weight and grade. Then, I would use these outputs to calculate the CO grades using all the CO's. After the CO grades were achieved, I'd use these to calculate the course grade by taking the CO grade mean."
   ]
  },
  {
   "cell_type": "code",
   "execution_count": null,
   "metadata": {},
   "outputs": [],
   "source": []
  }
 ],
 "metadata": {
  "kernelspec": {
   "display_name": "Python 3",
   "language": "python",
   "name": "python3"
  },
  "language_info": {
   "codemirror_mode": {
    "name": "ipython",
    "version": 3
   },
   "file_extension": ".py",
   "mimetype": "text/x-python",
   "name": "python",
   "nbconvert_exporter": "python",
   "pygments_lexer": "ipython3",
   "version": "3.7.3"
  }
 },
 "nbformat": 4,
 "nbformat_minor": 2
}
