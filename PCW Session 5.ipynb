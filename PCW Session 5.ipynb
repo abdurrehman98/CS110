{
 "cells": [
  {
   "cell_type": "markdown",
   "metadata": {},
   "source": [
    "Before you turn this problem in, make sure everything runs as expected. First, **restart the kernel** (in the menubar, select Kernel$\\rightarrow$Restart) and then **run all cells** (in the menubar, select Cell$\\rightarrow$Run All).\n",
    "\n",
    "Note that this Pre-class Work is estimated to take **1 hour and 30 minutes**.\n",
    "\n",
    "Make sure you fill in any place that says `YOUR CODE HERE` or \"YOUR ANSWER HERE\", as well as your name and collaborators below:"
   ]
  },
  {
   "cell_type": "code",
   "execution_count": null,
   "metadata": {},
   "outputs": [],
   "source": [
    "NAME = \"MUHAMMAD ABDURREHMAN ASIF\"\n",
    "COLLABORATORS = \"\""
   ]
  },
  {
   "cell_type": "markdown",
   "metadata": {},
   "source": [
    "---"
   ]
  },
  {
   "cell_type": "markdown",
   "metadata": {
    "deletable": false,
    "editable": false,
    "nbgrader": {
     "checksum": "ff3288a2b0acfc2e2f917a549d038e5c",
     "grade": false,
     "grade_id": "cell-9e44910e5a73668d",
     "locked": true,
     "schema_version": 1,
     "solution": false
    }
   },
   "source": [
    "# CS110 Pre-class Work - Mergesort and recurrences\n",
    "\n",
    "## Question 1 [time estimate: 20 minutes]\n",
    "\n",
    "First, please read carefully [this note](https://drive.google.com/open?id=1SfrRTKWDb6szsJENgvNF7-u2B96ecaF2), which reviews the MERGE operation in Cormen et al.\n",
    "\n",
    "After reviewing the example above (Cormen et al., Figure 2.3),  you need to manually create similar illustrations as in the example above but this time for the input array:\n",
    "\n",
    "![array](array.png)\n",
    "\n",
    "For this exercise, assume that the call to the algorithm is MERGE(A, 1, 3, 6) and draw different resulting stages of the arrays A, L, and R as the merge algorithm is executed.  You can hand-draw or use any drawing tool to produce panel illustrations, as in the example above.  Include your final drawings in the cell below. Feel free to use additional cells (Markdown or Code) for this question.\n"
   ]
  },
  {
   "cell_type": "markdown",
   "metadata": {
    "deletable": false,
    "nbgrader": {
     "checksum": "b4d0caf51fb6b587f68db4e806af35d0",
     "grade": true,
     "grade_id": "cell-badbff7790708987",
     "locked": false,
     "points": 0,
     "schema_version": 1,
     "solution": true
    }
   },
   "source": [
    "2 6 7 8 1 4 6 9\n",
    "I don't have experience with using drawing tools to create what I want to explain. Therefore, I will be writing an explanation. The input array is [2,6,7,8,1,4,6,9]. By using merge(A,1,3,6). By doing so, we start with first index, and break at the 3rd index therefore splitting the list into exactly half. Once we do so, we have Array L and Array R. Both having 4 elements, and 5 indices after we add infinity or a very big number at the very end. We will have 3 iterations occurring, i = over the Left list, j over the Right list and K over the complete list.Each of these will be initialized at 1 as that is what we are inputting when we call the function. As i and j iterate over the half-lists the K value will look for the smallest output from each and once the suitable one (the smallest one is found) it will be inputted into the original list in place of K and K will move forward. This will occur until K's iterations are completed. In this case, K will iterate 6 times, and since the list is 8 elements long, it will not be fully sorted."
   ]
  },
  {
   "cell_type": "markdown",
   "metadata": {
    "deletable": false,
    "editable": false,
    "nbgrader": {
     "checksum": "7c9608898d23ecbe07c084ca6d6da655",
     "grade": false,
     "grade_id": "cell-6dd1317d1ea8ab9f",
     "locked": true,
     "schema_version": 1,
     "solution": false
    }
   },
   "source": [
    "## Question 2 [time estimate: 5 minutes]\n",
    "Now using your understanding of Part I of the merge algorithm, can you think of an efficient way to implement this part in Python? (hint: using Python lists). Give your answer in prose in the cell below."
   ]
  },
  {
   "cell_type": "markdown",
   "metadata": {
    "deletable": false,
    "nbgrader": {
     "checksum": "9bf35550640c33f366c5cffad7fdf33a",
     "grade": true,
     "grade_id": "cell-4f961721620a6645",
     "locked": false,
     "points": 0,
     "schema_version": 1,
     "solution": true
    }
   },
   "source": [
    "I would divide the dataset into equal halves. I would continue to break these down until pairs were left. I would then create empty lists and start comparing these pairs; first amongst each other and then take elements of each compared to the elements of the next list. The final sorted elements will be appended to these empty lists."
   ]
  },
  {
   "cell_type": "markdown",
   "metadata": {
    "deletable": false,
    "editable": false,
    "nbgrader": {
     "checksum": "010584ea3a4f00fba43b52bb04cd0ed2",
     "grade": false,
     "grade_id": "cell-84932c7c0c20b750",
     "locked": true,
     "schema_version": 1,
     "solution": false
    }
   },
   "source": [
    "## Question 3 [time estimate: 20 minutes]\n",
    "\n",
    "Write a Python implementation of the merge pseudocode (both parts). Your Python function must take the same four input arguments as described in the $MERGE(A,p,q,r)$. Test your code by running the example in problem 1 and 2 of this pre-class work. Feel free to come up with additional cases to check if your code is working properly. Your code should return A."
   ]
  },
  {
   "cell_type": "code",
   "execution_count": 1,
   "metadata": {
    "deletable": false,
    "nbgrader": {
     "checksum": "43760e27d0b385c30476353b3d546a79",
     "grade": false,
     "grade_id": "cell-a67719d65c1ac9f3",
     "locked": false,
     "schema_version": 1,
     "solution": true
    }
   },
   "outputs": [
    {
     "data": {
      "text/plain": [
       "[1, 2, 4, 6, 6, 7, 8, 9]"
      ]
     },
     "execution_count": 1,
     "metadata": {},
     "output_type": "execute_result"
    }
   ],
   "source": [
    "def merge(A, p, q, r):\n",
    "    #first half of the list identified by Cormen et al\n",
    "    n1 = q - p + 1\n",
    "    n2 = r - q\n",
    "    #create empty lists\n",
    "    L = []\n",
    "    R = []\n",
    "    \n",
    "    #append 0's which will be replaced by our sorted elements\n",
    "    for i in range(0,n1+1):\n",
    "        L.append(0)\n",
    "    for j in range(0,n2+1): \n",
    "        R.append(0)\n",
    "        \n",
    "    # \n",
    "    for i in range(0, n1): \n",
    "        L[i] = A[p + i- 1]\n",
    "\n",
    "    for j in range(0, n2): \n",
    "        R[j] = A[q + j]\n",
    "    \n",
    "    #add number close to infinity in the list to ensure for loop runs properly\n",
    "    L[n1] = 99999\n",
    "    R[n2] = 99999\n",
    "        \n",
    "  \n",
    "    #psuedocode taken from cormen et al\n",
    "    #running iteration now\n",
    "    i = j = 0\n",
    "    for k in range(p - 1, r):\n",
    "        if L[i] <= R[j]:\n",
    "            A[k] = L[i] \n",
    "            i = i + 1 \n",
    "        else:\n",
    "            A[k] = R[j] \n",
    "            j = j + 1 \n",
    "        \n",
    "    return A\n",
    "\n",
    "A = [2,6,7,8,1,4,6,9]\n",
    "merge(A,1,4,8)\n"
   ]
  },
  {
   "cell_type": "code",
   "execution_count": null,
   "metadata": {
    "deletable": false,
    "editable": false,
    "nbgrader": {
     "checksum": "699908274975a6bff4f9fb021e666ce4",
     "grade": true,
     "grade_id": "cell-e98759fe14428af0",
     "locked": true,
     "points": 0,
     "schema_version": 1,
     "solution": false
    }
   },
   "outputs": [],
   "source": [
    "# Please ignore this cell. This cell is for us to implement the tests \n",
    "# to see if your code works properly. "
   ]
  },
  {
   "cell_type": "markdown",
   "metadata": {
    "deletable": false,
    "nbgrader": {
     "checksum": "b2d80ef5c8845de0122c6420b853605d",
     "grade": false,
     "grade_id": "cell-49f3f61ee6d72bb9",
     "locked": true,
     "schema_version": 1,
     "solution": false
    }
   },
   "source": [
    "## Question 4 [time estimate: 5 minutes]\n",
    "\n",
    "Suppose that your Python implementation of the merge algorithm is already working. Read and comment the code for merge sort below:"
   ]
  },
  {
   "cell_type": "code",
   "execution_count": 2,
   "metadata": {
    "deletable": false,
    "nbgrader": {
     "checksum": "53611abb1448334a346783091382fb12",
     "grade": false,
     "grade_id": "cell-073a21c6aac8225e",
     "locked": true,
     "schema_version": 1,
     "solution": false
    }
   },
   "outputs": [
    {
     "data": {
      "text/plain": [
       "[1, 2, 4, 6, 6, 7, 8, 9]"
      ]
     },
     "execution_count": 2,
     "metadata": {},
     "output_type": "execute_result"
    }
   ],
   "source": [
    "def merge_sort(A,p,r):\n",
    "  \n",
    "    if p < r:          #condition so that the list being halved makes sense\n",
    "        q = (p+r)//2   #breaking input list into half\n",
    "        merge_sort(A,p,q)    #recursion happening to break list down into further halves\n",
    "        merge_sort(A,q+1,r)  #base case = q+1 so that recursion does not continue forever\n",
    "        merge(A,p,q,r)       #using merge function we wrote above to bring all sorted pieces together\n",
    "    return(A)\n",
    "\n",
    "merge_sort(A,1,len(A)-1)"
   ]
  },
  {
   "cell_type": "code",
   "execution_count": null,
   "metadata": {
    "deletable": false,
    "editable": false,
    "nbgrader": {
     "checksum": "35fbb3c437b3ba39ede0d87d6719223b",
     "grade": true,
     "grade_id": "cell-a3a71f67390c1f82",
     "locked": true,
     "points": 0,
     "schema_version": 1,
     "solution": false
    }
   },
   "outputs": [],
   "source": [
    "# Please ignore this cell. This cell is for us to implement the tests \n",
    "# to see if your code works properly. "
   ]
  },
  {
   "cell_type": "markdown",
   "metadata": {
    "deletable": false,
    "nbgrader": {
     "checksum": "61cfba995efe3c9c37092a650047fdf3",
     "grade": false,
     "grade_id": "cell-5b296f793fefdbfe",
     "locked": true,
     "schema_version": 1,
     "solution": false
    }
   },
   "source": [
    "## Question 5 [time estimate: 15 minutes]\n",
    "Count the number of steps and time your merge_sort() function with the following input: `list_k = [i for i in range(100*k, 0, -1)] `, where $k= 1, 2, 3, …, 15 $. If you are not familiar with what this piece of code is doing, you may want to check the \"List Comprehension\" section in this [Python Help Sheet](https://drive.google.com/open?id=1paW2ByiraoDQViie0gGxApRN9DKbjHGx).\n"
   ]
  },
  {
   "cell_type": "code",
   "execution_count": 9,
   "metadata": {
    "deletable": false,
    "nbgrader": {
     "checksum": "cc3f59157e795d05422e849f3e7cc03a",
     "grade": true,
     "grade_id": "cell-8a4233ab58d3d0bb",
     "locked": false,
     "points": 0,
     "schema_version": 1,
     "solution": true
    }
   },
   "outputs": [
    {
     "data": {
      "text/plain": [
       "1"
      ]
     },
     "execution_count": 9,
     "metadata": {},
     "output_type": "execute_result"
    }
   ],
   "source": [
    "def merge(A, p, q, r):\n",
    "    #first half of the list identified by Cormen et al\n",
    "    n1 = q - p + 1\n",
    "    n2 = r - q\n",
    "    #create empty lists\n",
    "    L = []\n",
    "    R = []\n",
    "    \n",
    "    #append 0's which will be replaced by our sorted elements\n",
    "    for i in range(0,n1+1):\n",
    "        L.append(0)\n",
    "    for j in range(0,n2+1): \n",
    "        R.append(0)\n",
    "        \n",
    "    # \n",
    "    for i in range(0, n1): \n",
    "        L[i] = A[p + i- 1]\n",
    "\n",
    "    for j in range(0, n2): \n",
    "        R[j] = A[q + j]\n",
    "    \n",
    "    #add number close to infinity in the list to ensure for loop runs properly\n",
    "    L[n1] = 99999\n",
    "    R[n2] = 99999\n",
    "        \n",
    "  \n",
    "    #psuedocode taken from cormen et al\n",
    "    #running iteration now\n",
    "    i = j = 0\n",
    "    for k in range(p - 1, r):\n",
    "        if L[i] <= R[j]:\n",
    "            A[k] = L[i] \n",
    "            i = i + 1 \n",
    "        else:\n",
    "            A[k] = R[j] \n",
    "            j = j + 1 \n",
    "        \n",
    "    return A\n",
    "\n",
    "def merge_sort(A,p,r):\n",
    "    steps = 0\n",
    "    if p < r:          #condition so that the list being halved makes sense\n",
    "        q = (p+r)//2   #breaking input list into half\n",
    "        merge_sort(A,p,q)    #recursion happening to break list down into further halves\n",
    "        merge_sort(A,q+1,r)  #base case = q+1 so that recursion does not continue forever\n",
    "        merge(A,p,q,r)  #using merge function we wrote above to bring all sorted pieces together\n",
    "        steps += 1\n",
    "    return steps  #### Changed this to only return steps so our output isn't insanely big\n",
    "\n",
    "A = [2,6,7,8,1,4,6,9]\n",
    "merge_sort(A,1,len(A)-1)\n",
    "\n",
    "k = 100\n",
    "list_k = [i for i in range(100*k, 0, -1)]\n",
    "merge_sort(list_k, 1, len(list_k) - 1)  # outputs the number of steps it took"
   ]
  },
  {
   "cell_type": "markdown",
   "metadata": {
    "deletable": false,
    "editable": false
   },
   "source": [
    "## Question 6 [time estimate: 25 minutes] \n",
    "Use the code you wrote for Lesson \"Measuring algorithms' efficiency\" (i.e., selection sort, bubble sort, insertion sort). Plot the following graphs:\n",
    "* **Graph 1**: 4 lines for **the number of steps** of each of the 4 sorting algorithms (i.e., selection sort, bubble sort, insertion sort, merge sort). Which algorithm performs best? Why? \n",
    "* **Graph 2**: 4 lines for **the timing** of each of the 4 sorting algorithms (i.e., selection sort, bubble sort, insertion sort, merge sort). Which algorithm performs best? Why?\n",
    "\n",
    "Use as many cells as you wish (code cells or markdown cells alike) to complete this question.\n",
    "\n",
    "You may find the section \"Simple 2-Dimensional Plots in Python\" in this [Python Help Sheet](https://drive.google.com/open?id=1paW2ByiraoDQViie0gGxApRN9DKbjHGx) helpful."
   ]
  },
  {
   "cell_type": "code",
   "execution_count": 21,
   "metadata": {
    "deletable": false,
    "nbgrader": {
     "checksum": "0561f29260f91795736500d62066a4c7",
     "grade": true,
     "grade_id": "cell-d09efb7c7fe55e69",
     "locked": false,
     "points": 0,
     "schema_version": 1,
     "solution": true
    }
   },
   "outputs": [],
   "source": [
    "#could not complete this part. Tried going to class 2.2 and looking at the code from there but it was too complicated for\n",
    "#me to recreate.\n",
    "import matplotlib.pyplot as plt\n",
    "import random\n",
    "import time\n",
    "%matplotlib inline\n",
    "\n",
    "import numpy as np\n",
    "\n",
    "def generate_inputs(type_input, N, interval):\n",
    "    '''\n",
    "    This function generates data of size 1..N in the format of the inputted 'type_input' variable.\n",
    "    --------\n",
    "    Inputs:\n",
    "    -type_input: options are 'Sorted', 'Reversed' or 'Random' that indicate the format of the data generated\n",
    "    -N: maximum size of input list\n",
    "    -interval: interval of sizes for the elements on the list\n",
    "    Outputs:\n",
    "    -A list of lists to be sorted\n",
    "    '''\n",
    "    data = []\n",
    "    for i in range(0, N+1, interval):\n",
    "        if type_input == 'Reversed':\n",
    "            data.append([j for j in range(i+1,1,-1)])\n",
    "        elif type_input == 'Random': \n",
    "            data.append([random.randint(1,1000) for j in range(i)])\n",
    "        ## uncomment the following line of code for Q2\n",
    "        #elif type_input == 'Sorted':\n",
    "            ## your code here\n",
    "        else:\n",
    "            raise ValueError('This is an unsupported type_input; please try again.')\n",
    "    return data\n"
   ]
  },
  {
   "cell_type": "code",
   "execution_count": 22,
   "metadata": {},
   "outputs": [],
   "source": [
    "def plot_histogram_data(input_size, runtimes, confidence_interval, n_bins, \n",
    "                        sorting_algorithm):\n",
    "            '''\n",
    "           \n",
    "            '''\n",
    "            fig, ax = plt.subplots()\n",
    "            plt.hist(runtimes, bins=n_bins, alpha=0.6)\n",
    "            lower_bound = np.quantile(runtimes, (1/2)*(1-confidence_interval/100))\n",
    "            upper_bound = np.quantile(runtimes, (1/2)*(1+confidence_interval/100))\n",
    "            plt.axvline(x=lower_bound, color='green', linestyle ='--')\n",
    "            plt.axvline(x=upper_bound, color='green', linestyle ='--', \n",
    "                        label=str(int(confidence_interval))+'% CI')\n",
    "            mu = np.mean(runtimes)\n",
    "            plt.axvline(x=mu, color='forestgreen', linewidth=3, label = 'mean')\n",
    "            median = np.median(runtimes)\n",
    "            sigma = np.std(runtimes)\n",
    "            textstr = '\\n'.join(\n",
    "                ['mean: '+\"{:f}s\".format(round(mu, 5)),\n",
    "                 'std: '+\"{:f}s\".format(round(sigma, 5)),\n",
    "                 'median: '+\"{:f}s\".format(round(median, 5))\n",
    "                ]\n",
    "            )\n",
    "            # place a text box in upper left in axes coords\n",
    "            plt.annotate(textstr, xy=(1.05, 0.8), xycoords='axes fraction')\n",
    "            plt.legend(loc='upper right')\n",
    "            #plt.grid()\n",
    "            plt.ylabel('Frequency')\n",
    "            plt.xlabel('Run Time (s)')\n",
    "            plt.title(f'Runtime Distribution N={input_size} - {sorting_algorithm}')\n",
    "            plt.show()\n",
    "            \n",
    "            \n",
    "            \n",
    "def compare_algorithms(data, sorting_algorithms_list, \n",
    "                       n_runs, \n",
    "                       plot_steps = False, plot_runtime = False, \n",
    "                       plot_histogram_runtime = False, \n",
    "                       histogram_input_size = 1000, n_bins = 30, confidence_interval=95):\n",
    "    \"\"\"\n",
    "   \n",
    "    \"\"\"\n",
    "    sorting_data = {}\n",
    "    \n",
    "    for ele in data[1:]:\n",
    "        for algo in sorting_algorithms_list:\n",
    "            if algo.__name__ not in sorting_data.keys():\n",
    "                sorting_data[algo.__name__] = {}\n",
    "                sorting_data[algo.__name__][len(ele)] = {}\n",
    "                temp_list = []\n",
    "                for experiments in range(n_runs):\n",
    "                    start = time.time()\n",
    "                    el1 = ele.copy()\n",
    "                    steps = algo(el1)\n",
    "                    temp_list.append(time.time() - start)\n",
    "                sorting_data[algo.__name__][len(ele)]['data'] = temp_list\n",
    "                sorting_data[algo.__name__][len(ele)]['steps'] = steps\n",
    "            else:\n",
    "                sorting_data[algo.__name__][len(ele)] = {}\n",
    "                temp_list = []\n",
    "                for experiments in range(n_runs):\n",
    "                    start = time.time()\n",
    "                    el1 = ele.copy()\n",
    "                    steps = algo(el1)\n",
    "                    temp_list.append(time.time() - start)\n",
    "                sorting_data[algo.__name__][len(ele)]['data'] = temp_list\n",
    "                sorting_data[algo.__name__][len(ele)]['steps'] = steps\n",
    "        \n",
    "        if plot_histogram_runtime and len(ele) == histogram_input_size:\n",
    "            for algo in sorting_algorithms_list:\n",
    "                plot_histogram_data(len(ele), sorting_data[algo.__name__][len(ele)]['data'], \n",
    "                                    confidence_interval, n_bins, algo.__name__)                               \n",
    "                plt.show()\n",
    "    if plot_steps:\n",
    "        for algo in sorting_data.keys():\n",
    "            x_data = sorted(list(sorting_data[algo]))\n",
    "            y_data = [sorting_data[algo][x]['steps'] for x in x_data]\n",
    "            plt.plot(x_data, y_data, '--', label=algo)\n",
    "        plt.xlabel('Input size')\n",
    "        plt.ylabel('Steps')\n",
    "        plt.legend(loc='upper left')\n",
    "        plt.title('Scaling of Sorting Algorithms - Steps', fontweight='bold')\n",
    "        plt.show()\n",
    " \n",
    "    if plot_runtime:\n",
    "        for algo in sorting_data.keys():\n",
    "            x_data = sorted(list(sorting_data[algo]))\n",
    "            y_data = [np.mean(sorting_data[algo][x]['data']) for x in x_data]\n",
    "            y_lower = [np.quantile(sorting_data[algo][x]['data'], (1/2)*(1-confidence_interval/100)) for x in x_data]\n",
    "            y_upper = [np.quantile(sorting_data[algo][x]['data'], (1/2)*(1+confidence_interval/100)) for x in x_data]\n",
    "            ax = sns.lineplot(x_data, y_data, label=algo) \n",
    "            ax.fill_between(x_data, y_lower, y_upper, alpha=0.3)\n",
    "        plt.xlabel('Input size')\n",
    "        plt.ylabel('Time (s)')\n",
    "        plt.legend(loc='upper left')\n",
    "        plt.title('Scaling of Sorting Algorithms - Time (s)', fontweight='bold')\n",
    "        plt.show()"
   ]
  },
  {
   "cell_type": "code",
   "execution_count": 23,
   "metadata": {},
   "outputs": [],
   "source": [
    "def bubble_sort(A):\n",
    "    k = 0\n",
    "    for j in range(0, len(A)): #iteration range\n",
    "        key = A[j] #the 'element' we wish to sort\n",
    "        i= j-1\n",
    "        while i >= 0 and A[i]>key: #termination condition\n",
    "            A[i+1] = A[i] #switching \n",
    "            i -= 1#assigns new operand by subtracting 1\n",
    "        A[i+1] = key #the 'key' is sorted using the loop now\n",
    "        k += 1\n",
    "    return A, k\n",
    "\n",
    "\n",
    "def insertion_sort(A):\n",
    "    m = 0\n",
    "    for i in range(len(A)-1): #length - 1 so we don't sort an extra number\n",
    "        for j in range(0,(len(A)-i-1)): \n",
    "            if A[j] > A[j+1]: #if first integer is greater\n",
    "                \n",
    "                #the subsequent steps perform the switch\n",
    "                first = A[j]  \n",
    "                A[j] = A[j+1]\n",
    "                A[j+1] = first\n",
    "                m += 1\n",
    "    return A, m\n",
    "\n",
    "def selection_sort(A):\n",
    "    n = len(A) \n",
    "    z = 0\n",
    "    for i in range(n-1):\n",
    "        minidx = i\n",
    "        for j in range (i+1, n):\n",
    "            if A[j] < A[minidx]:\n",
    "                minidx = j\n",
    "        first = A[i]\n",
    "        A[i] = A[minidx]\n",
    "        A[minidx] = first\n",
    "        z += 1\n",
    "    return A, z\n",
    "\n"
   ]
  },
  {
   "cell_type": "code",
   "execution_count": 27,
   "metadata": {},
   "outputs": [
    {
     "ename": "AttributeError",
     "evalue": "'int' object has no attribute '__name__'",
     "output_type": "error",
     "traceback": [
      "\u001b[0;31m---------------------------------------------------------------------------\u001b[0m",
      "\u001b[0;31mAttributeError\u001b[0m                            Traceback (most recent call last)",
      "\u001b[0;32m<ipython-input-27-60504e33ce9a>\u001b[0m in \u001b[0;36m<module>\u001b[0;34m()\u001b[0m\n\u001b[1;32m     17\u001b[0m                    \u001b[0mplot_histogram_runtime\u001b[0m\u001b[0;34m=\u001b[0m\u001b[0;32mTrue\u001b[0m\u001b[0;34m,\u001b[0m\u001b[0;34m\u001b[0m\u001b[0;34m\u001b[0m\u001b[0m\n\u001b[1;32m     18\u001b[0m                    \u001b[0mhistogram_input_size\u001b[0m\u001b[0;34m=\u001b[0m\u001b[0mN\u001b[0m\u001b[0;34m,\u001b[0m \u001b[0mn_bins\u001b[0m\u001b[0;34m=\u001b[0m\u001b[0mn_runs\u001b[0m\u001b[0;34m,\u001b[0m\u001b[0;34m\u001b[0m\u001b[0;34m\u001b[0m\u001b[0m\n\u001b[0;32m---> 19\u001b[0;31m                    confidence_interval=confidence_level)\n\u001b[0m",
      "\u001b[0;32m<ipython-input-22-310b39fe18df>\u001b[0m in \u001b[0;36mcompare_algorithms\u001b[0;34m(data, sorting_algorithms_list, n_runs, plot_steps, plot_runtime, plot_histogram_runtime, histogram_input_size, n_bins, confidence_interval)\u001b[0m\n\u001b[1;32m     44\u001b[0m     \u001b[0;32mfor\u001b[0m \u001b[0mele\u001b[0m \u001b[0;32min\u001b[0m \u001b[0mdata\u001b[0m\u001b[0;34m[\u001b[0m\u001b[0;36m1\u001b[0m\u001b[0;34m:\u001b[0m\u001b[0;34m]\u001b[0m\u001b[0;34m:\u001b[0m\u001b[0;34m\u001b[0m\u001b[0;34m\u001b[0m\u001b[0m\n\u001b[1;32m     45\u001b[0m         \u001b[0;32mfor\u001b[0m \u001b[0malgo\u001b[0m \u001b[0;32min\u001b[0m \u001b[0msorting_algorithms_list\u001b[0m\u001b[0;34m:\u001b[0m\u001b[0;34m\u001b[0m\u001b[0;34m\u001b[0m\u001b[0m\n\u001b[0;32m---> 46\u001b[0;31m             \u001b[0;32mif\u001b[0m \u001b[0malgo\u001b[0m\u001b[0;34m.\u001b[0m\u001b[0m__name__\u001b[0m \u001b[0;32mnot\u001b[0m \u001b[0;32min\u001b[0m \u001b[0msorting_data\u001b[0m\u001b[0;34m.\u001b[0m\u001b[0mkeys\u001b[0m\u001b[0;34m(\u001b[0m\u001b[0;34m)\u001b[0m\u001b[0;34m:\u001b[0m\u001b[0;34m\u001b[0m\u001b[0;34m\u001b[0m\u001b[0m\n\u001b[0m\u001b[1;32m     47\u001b[0m                 \u001b[0msorting_data\u001b[0m\u001b[0;34m[\u001b[0m\u001b[0malgo\u001b[0m\u001b[0;34m.\u001b[0m\u001b[0m__name__\u001b[0m\u001b[0;34m]\u001b[0m \u001b[0;34m=\u001b[0m \u001b[0;34m{\u001b[0m\u001b[0;34m}\u001b[0m\u001b[0;34m\u001b[0m\u001b[0;34m\u001b[0m\u001b[0m\n\u001b[1;32m     48\u001b[0m                 \u001b[0msorting_data\u001b[0m\u001b[0;34m[\u001b[0m\u001b[0malgo\u001b[0m\u001b[0;34m.\u001b[0m\u001b[0m__name__\u001b[0m\u001b[0;34m]\u001b[0m\u001b[0;34m[\u001b[0m\u001b[0mlen\u001b[0m\u001b[0;34m(\u001b[0m\u001b[0mele\u001b[0m\u001b[0;34m)\u001b[0m\u001b[0;34m]\u001b[0m \u001b[0;34m=\u001b[0m \u001b[0;34m{\u001b[0m\u001b[0;34m}\u001b[0m\u001b[0;34m\u001b[0m\u001b[0;34m\u001b[0m\u001b[0m\n",
      "\u001b[0;31mAttributeError\u001b[0m: 'int' object has no attribute '__name__'"
     ]
    }
   ],
   "source": [
    "N = 500\n",
    "n_runs = 5\n",
    "confidence_level = 95\n",
    "type_of_input_data = 'Random'\n",
    "sorting_algorithms = [selection_sort, insertion_sort, bubble_sort, merge_sort(A,1,4)]\n",
    "\n",
    "\n",
    "\n",
    "\n",
    "input_data = generate_inputs(type_input=type_of_input_data, \n",
    "                             N=N, \n",
    "                             interval=N//20)\n",
    "\n",
    "\n",
    "compare_algorithms(data=input_data, sorting_algorithms_list=sorting_algorithms, \n",
    "                   n_runs=n_runs, plot_steps=False, plot_runtime=False, \n",
    "                   plot_histogram_runtime=True, \n",
    "                   histogram_input_size=N, n_bins=n_runs,\n",
    "                   confidence_interval=confidence_level)"
   ]
  },
  {
   "cell_type": "code",
   "execution_count": null,
   "metadata": {},
   "outputs": [],
   "source": []
  }
 ],
 "metadata": {
  "kernelspec": {
   "display_name": "Python 3",
   "language": "python",
   "name": "python3"
  },
  "language_info": {
   "codemirror_mode": {
    "name": "ipython",
    "version": 3
   },
   "file_extension": ".py",
   "mimetype": "text/x-python",
   "name": "python",
   "nbconvert_exporter": "python",
   "pygments_lexer": "ipython3",
   "version": "3.7.3"
  }
 },
 "nbformat": 4,
 "nbformat_minor": 2
}
