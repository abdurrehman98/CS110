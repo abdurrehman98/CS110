{
 "cells": [
  {
   "cell_type": "markdown",
   "metadata": {},
   "source": [
    "Before you turn this problem in, make sure everything runs as expected. First, **restart the kernel** (in the menubar, select Kernel$\\rightarrow$Restart) and then **run all cells** (in the menubar, select Cell$\\rightarrow$Run All).\n",
    "\n",
    "Note that this Pre-class Work is estimated to take **31 minutes**.\n",
    "\n",
    "Make sure you fill in any place that says `YOUR CODE HERE` or \"YOUR ANSWER HERE\", as well as your name and collaborators below:"
   ]
  },
  {
   "cell_type": "code",
   "execution_count": null,
   "metadata": {},
   "outputs": [],
   "source": [
    "NAME = \"MUHAMMAD ABDURREHMAN ASIF\"\n",
    "COLLABORATORS = \"\""
   ]
  },
  {
   "cell_type": "markdown",
   "metadata": {},
   "source": [
    "---"
   ]
  },
  {
   "cell_type": "markdown",
   "metadata": {
    "deletable": false,
    "editable": false,
    "nbgrader": {
     "checksum": "df135f0c4ea26cc7c0b25cb64a20e634",
     "grade": false,
     "grade_id": "cell-b46066345313bea6",
     "locked": true,
     "schema_version": 1,
     "solution": false
    }
   },
   "source": [
    "# CS110 Pre-class Work - Measuring algorithms' efficiency\n",
    "\n",
    "## Question 1 [time estimate: 15 minutes]\n",
    "\n",
    "Copy and paste the code for Insertion, Selection, and Bubble sort algorithms you wrote in Lesson \"Analyzing elementary sorting algorithm\" on the cells below. For each sorting algorithm, modify the code to introduce step counters. Your functions should return only the number of steps they took to sort the list. This will help you in a in-class activity for this lesson and for the PCW of the next lesson. Make sure to test your code by provinding different input lists of different sizes."
   ]
  },
  {
   "cell_type": "code",
   "execution_count": 6,
   "metadata": {
    "deletable": false,
    "nbgrader": {
     "checksum": "525698a22b0cee9c4cb74be2011232de",
     "grade": true,
     "grade_id": "cell-1eadb1312ac0519d",
     "locked": false,
     "points": 0,
     "schema_version": 1,
     "solution": true
    }
   },
   "outputs": [
    {
     "data": {
      "text/plain": [
       "([1, 2, 2, 3, 4, 4, 4, 5, 5, 5, 5, 5, 6, 6, 7, 8, 9], 17)"
      ]
     },
     "execution_count": 6,
     "metadata": {},
     "output_type": "execute_result"
    }
   ],
   "source": [
    "def insertion_sort(A):\n",
    "    k = 0\n",
    "    for j in range(0, len(A)): #iteration range\n",
    "        key = A[j] #the 'element' we wish to sort\n",
    "        i= j-1\n",
    "        while i >= 0 and A[i]>key: #termination condition\n",
    "            A[i+1] = A[i] #switching \n",
    "            i -= 1#assigns new operand by subtracting 1\n",
    "        A[i+1] = key #the 'key' is sorted using the loop now\n",
    "        k += 1\n",
    "    return A, k\n",
    "insertion_sort([7,3,5,4,6,4,4,2,2,5,6,1,5,8,5,9,5])"
   ]
  },
  {
   "cell_type": "code",
   "execution_count": 15,
   "metadata": {
    "deletable": false,
    "nbgrader": {
     "checksum": "525698a22b0cee9c4cb74be2011232de",
     "grade": true,
     "grade_id": "cell-1eadb1312ac0519d",
     "locked": false,
     "points": 0,
     "schema_version": 1,
     "solution": true
    }
   },
   "outputs": [
    {
     "data": {
      "text/plain": [
       "([1, 2, 2, 3, 4, 4, 4, 5, 5, 5, 5, 5, 6, 6, 7, 8, 9], 51)"
      ]
     },
     "execution_count": 15,
     "metadata": {},
     "output_type": "execute_result"
    }
   ],
   "source": [
    "def bubble_sort(A):\n",
    "    m = 0\n",
    "    for i in range(len(A)-1): #length - 1 so we don't sort an extra number\n",
    "        for j in range(0,(len(A)-i-1)): \n",
    "            if A[j] > A[j+1]: #if first integer is greater\n",
    "                \n",
    "                #the subsequent steps perform the switch\n",
    "                first = A[j]  \n",
    "                A[j] = A[j+1]\n",
    "                A[j+1] = first\n",
    "                m += 1\n",
    "    return A, m\n",
    "\n",
    "    raise NotImplementedError()\n",
    "bubble_sort([7,3,5,4,6,4,4,2,2,5,6,1,5,8,5,9,5])"
   ]
  },
  {
   "cell_type": "code",
   "execution_count": 17,
   "metadata": {
    "deletable": false,
    "nbgrader": {
     "checksum": "525698a22b0cee9c4cb74be2011232de",
     "grade": true,
     "grade_id": "cell-1eadb1312ac0519d",
     "locked": false,
     "points": 0,
     "schema_version": 1,
     "solution": true
    }
   },
   "outputs": [
    {
     "data": {
      "text/plain": [
       "([1, 1, 2, 2, 3, 3, 3, 4, 5, 5, 5, 5, 5, 6, 7, 8, 9], 16)"
      ]
     },
     "execution_count": 17,
     "metadata": {},
     "output_type": "execute_result"
    }
   ],
   "source": [
    "def selection_sort(A):\n",
    "    n = len(A) \n",
    "    z = 0\n",
    "    for i in range(n-1):\n",
    "        minidx = i\n",
    "        for j in range (i+1, n):\n",
    "            if A[j] < A[minidx]:\n",
    "                minidx = j\n",
    "        first = A[i]\n",
    "        A[i] = A[minidx]\n",
    "        A[minidx] = first\n",
    "        z += 1\n",
    "    return A, z\n",
    "    raise NotImplementedError()\n",
    "selection_sort([7,3,1,2,3,4,5,2,6,5,3,1,5,8,5,9,5])"
   ]
  },
  {
   "cell_type": "markdown",
   "metadata": {
    "deletable": false,
    "editable": false,
    "nbgrader": {
     "checksum": "9d7a3b260b0fef93382fb52aa393f963",
     "grade": false,
     "grade_id": "cell-0ac1c20b43acb363",
     "locked": true,
     "schema_version": 1,
     "solution": false
    }
   },
   "source": [
    "## Question 2 [time estimate: 10 minutes]\n",
    "\n",
    "Studying these sorting algorithms in detail, identify for which kinds of input they would perform better or worst in completing the task of sorting a list. Give examples to complement your answer."
   ]
  },
  {
   "cell_type": "markdown",
   "metadata": {
    "deletable": false,
    "nbgrader": {
     "checksum": "eb02c9951e19ee43d128fa93dd53eaad",
     "grade": true,
     "grade_id": "cell-5ecb51404140cb2f",
     "locked": false,
     "points": 0,
     "schema_version": 1,
     "solution": true
    }
   },
   "source": [
    "- **Insertion Sort**\n",
    "    - Best-case input: already sorted inputs which would result in o{n}\n",
    "    - Worst-case input: reverse ordered input (meaning every single element needs to be sorted). This would take o{n^2} \n",
    "      time as there will be two layers of iterations happening;one over the entire list and one shifting each element \n",
    "    \n",
    "- **Bubble Sort**\n",
    "    - Best-case input: Already sorted input since it takes O{n} amount of time\n",
    "    - Worst-case input: All other inputs will require O{n^2}. This is similar to insertion sort since the bubble sort will \n",
    "      picking an element based on the iteration and switch it based on the inner loop as well\n",
    "    \n",
    "- **Selection Sort**\n",
    "    - Best-case input: This algorithm also uses O{n^2} for every case since it treats every single dataset the same. There \n",
    "      is no way for it to recognize that a list is already sorted and thus it goes over the entire sorting process in the \n",
    "      loops regardless of the level of sorting required - this can be verified by changing the elements of a list but \n",
    "      keeping the total number of elements consistent\n",
    "    - Worst-case input: Same as best-case"
   ]
  },
  {
   "cell_type": "markdown",
   "metadata": {
    "deletable": false,
    "editable": false,
    "nbgrader": {
     "checksum": "cb0b8b9c4b153530d47b437baa24098d",
     "grade": false,
     "grade_id": "cell-b22dce6b32afe1a9",
     "locked": true,
     "schema_version": 1,
     "solution": false
    }
   },
   "source": [
    "## Question 3 [time estimate: 3 minutes]\n",
    "\n",
    "Given your answers to the previous question, is there any algorithm that performs asymptotically the same for any kind of input? Explain your answer."
   ]
  },
  {
   "cell_type": "markdown",
   "metadata": {
    "deletable": false,
    "nbgrader": {
     "checksum": "4ff5af35daed9a5442ba229263bdde33",
     "grade": true,
     "grade_id": "cell-442998d5fdd8b561",
     "locked": false,
     "points": 0,
     "schema_version": 1,
     "solution": true
    }
   },
   "source": [
    "Selection sort performs the same asymptotically regardless of input. This is because the selection sorting program is written in a way that it is impossible for it decipher if an input already is sorted or not. It always looks for the smallest element in one iteration and no matter if the list is fully sorted or not it does it's function and then continues to compare the next element. Therefore, it always does n-1 comparisons in the first iteration and then n-2, n-3 ... and so forth hence the total behavior can be characterized as o{n^2}"
   ]
  },
  {
   "cell_type": "markdown",
   "metadata": {
    "deletable": false,
    "editable": false,
    "nbgrader": {
     "checksum": "cb0b8b9c4b153530d47b437baa24098d",
     "grade": false,
     "grade_id": "cell-b22dce6b32afe1a9",
     "locked": true,
     "schema_version": 1,
     "solution": false
    }
   },
   "source": [
    "## Question 4 [time estimate: 3 minutes]\n",
    "\n",
    "Besides the step counters you introduced and the algorithms' running times you studied in the previous session, can you think of other metrics you could use to measure an algorithm's efficiency? Explain your reasoning."
   ]
  },
  {
   "cell_type": "markdown",
   "metadata": {
    "nbgrader": {
     "checksum": "4ff5af35daed9a5442ba229263bdde33",
     "grade": true,
     "grade_id": "cell-442998d5fdd8b561",
     "locked": false,
     "points": 0,
     "schema_version": 1,
     "solution": true
    }
   },
   "source": [
    "One metric we have discussed but not gone much in detail is space complexity. Space complexity can be used to describe an algorithms efficiency. Space complexity is how much memory space an algorithm uses to complete the task we are given. Ofcourse this also is dependent on the inputs, but generally it can also take up a notation similar to time complexity. Other metrics which may be considered crude are how short an algorithm is (lesser lines of code to perform the same task == better), however, this does not have any effect on the efficiency of the algorithm as long as the principles and overall algorithm remain the same."
   ]
  }
 ],
 "metadata": {
  "kernelspec": {
   "display_name": "Python 3",
   "language": "python",
   "name": "python3"
  },
  "language_info": {
   "codemirror_mode": {
    "name": "ipython",
    "version": 3
   },
   "file_extension": ".py",
   "mimetype": "text/x-python",
   "name": "python",
   "nbconvert_exporter": "python",
   "pygments_lexer": "ipython3",
   "version": "3.7.0"
  }
 },
 "nbformat": 4,
 "nbformat_minor": 2
}
