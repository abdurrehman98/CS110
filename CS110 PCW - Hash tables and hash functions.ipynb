{
 "cells": [
  {
   "cell_type": "markdown",
   "metadata": {},
   "source": [
    "Before you turn this problem in, make sure everything runs as expected. First, **restart the kernel** (in the menubar, select Kernel$\\rightarrow$Restart) and then **run all cells** (in the menubar, select Cell$\\rightarrow$Run All).\n",
    "\n",
    "Note that this Pre-class Work is estimated to take **45 minutes**.\n",
    "\n",
    "Make sure you fill in any place that says `YOUR CODE HERE` or \"YOUR ANSWER HERE\", as well as your name and collaborators below:"
   ]
  },
  {
   "cell_type": "code",
   "execution_count": null,
   "metadata": {},
   "outputs": [],
   "source": [
    "NAME = \"MUHAMMAD ABDURREHMAN ASIF\"\n",
    "COLLABORATORS = \"\""
   ]
  },
  {
   "cell_type": "markdown",
   "metadata": {},
   "source": [
    "---"
   ]
  },
  {
   "cell_type": "markdown",
   "metadata": {
    "deletable": false,
    "editable": false,
    "nbgrader": {
     "checksum": "4d981108d5cc409ac26cfbe6fa53cb1f",
     "grade": false,
     "grade_id": "cell-5b237cc13279b029",
     "locked": true,
     "schema_version": 1,
     "solution": false
    }
   },
   "source": [
    "# CS110 Pre-class Work - Hash tables and hash functions\n",
    "\n",
    "## Part A. Direct Address Tables [time estimate: 10 minutes]\n",
    "\n",
    "As the first step in setting up a crossword solving algorithm you need to create 2 direct address tables, one to store all the “up” answers - whether correct or not - and one to store all the “across” answers. Write python code to create a direct address table that allows you to:\n",
    "\n",
    "1. initialize N empty guesses\n",
    "2. set a guess for the i-th entry\n",
    "3. clear an incorrect guess for the i-th entry\n"
   ]
  },
  {
   "cell_type": "code",
   "execution_count": 1,
   "metadata": {
    "deletable": false,
    "nbgrader": {
     "checksum": "69e5d714c7245702b8732209ea0b2b42",
     "grade": true,
     "grade_id": "cell-d8d2e3c1b136cdb9",
     "locked": false,
     "points": 0,
     "schema_version": 1,
     "solution": true
    }
   },
   "outputs": [],
   "source": [
    "def init(N):\n",
    "    [None for i in range(N)]\n",
    "    \n",
    "def make_guess(table,entry,guess):\n",
    "    table[entry] = guess\n",
    "    \n",
    "def delete_guess(table,entry):\n",
    "    table[entry] = None\n",
    "    \n",
    "    "
   ]
  },
  {
   "cell_type": "markdown",
   "metadata": {
    "deletable": false,
    "editable": false,
    "nbgrader": {
     "checksum": "cdb562114e50f9ce1c97be3536b59efa",
     "grade": false,
     "grade_id": "cell-b27891b3ff16f730",
     "locked": true,
     "schema_version": 1,
     "solution": false
    }
   },
   "source": [
    "## Part B. Social Security [time estimate: 3 minutes]\n",
    "\n",
    "Could we use a direct address table to store a country's entire set of social security numbers (aka id numbers)? Why or why not?\n"
   ]
  },
  {
   "cell_type": "markdown",
   "metadata": {
    "deletable": false,
    "nbgrader": {
     "checksum": "7b193e66cbea5bd9dac131a3d6adfefa",
     "grade": true,
     "grade_id": "cell-e751647d9af78c11",
     "locked": false,
     "points": 0,
     "schema_version": 1,
     "solution": true
    }
   },
   "source": [
    "In theory it is possible but this would be severly inefficient and completely inappropriate to address the sort of problem we are aiming to. A country's entire set of SSN would contain identification data for millions of people. This dataset would constantly be increasing as well as more and more people get their SSNs. Some sort of expiry or deletion function would also be required for redundant ID's. Thus, a direct address table would be ridiculously inefficient. The sheer amount of data would require painstakingly long to perform any tasks on, search through or delete from. Thus, it is not an optimal solution. Finally, all the storage would require a space complexity so high that it would be extremely burdensome on memory capabilities."
   ]
  },
  {
   "cell_type": "markdown",
   "metadata": {
    "deletable": false,
    "editable": false,
    "nbgrader": {
     "checksum": "35f74a7f882cabb36df7ee2c43ee51db",
     "grade": false,
     "grade_id": "cell-cba2028918eea1fd",
     "locked": true,
     "schema_version": 1,
     "solution": false
    }
   },
   "source": [
    "## Part C. Chained Hash-table [time estimate: 32 minutes]\n",
    "\n",
    "### Question 1 [time estimate: 7 minutes]\n",
    "\n",
    "Using the code in the cell below, complete the missing sections of code. You should copy and paste the code in an additional cell and fill in the code there."
   ]
  },
  {
   "cell_type": "code",
   "execution_count": 2,
   "metadata": {
    "deletable": false,
    "editable": false,
    "nbgrader": {
     "checksum": "ffc1d9c145de9e5c52f96dfdc8a66fe2",
     "grade": false,
     "grade_id": "cell-9e41d88b035338f4",
     "locked": true,
     "schema_version": 1,
     "solution": false
    }
   },
   "outputs": [],
   "source": [
    "import random\n",
    "import string\n",
    "\n",
    "\n",
    "def randomword(length):\n",
    "    return ''.join(random.choice(string.ascii_lowercase) for i in range(length))\n",
    "\n",
    "\n",
    "def empty_hash_table(N):\n",
    "    return [[] for n in range(N)]\n",
    "\n",
    "\n",
    "def add_to_hash_table(hash_table, item, hash_function):\n",
    "    N = len(hash_table)\n",
    "    # YOUR CODE HERE\n",
    "    return hash_table\n",
    "\n",
    "\n",
    "def contains(hash_table, item, hash_function):\n",
    "    N = len(hash_table)\n",
    "    # YOUR CODE HERE\n",
    "    # return true if the item has already been stored in the hash_table\n",
    "\n",
    "\n",
    "def remove(hash_table, item, hash_function):\n",
    "    if not contains(hash_table, item, hash_function):\n",
    "        raise ValueError()\n",
    "    # YOUR CODE HERE\n",
    "    return hash_table\n",
    "\n",
    "\n",
    "# Hash Functions\n",
    "def hash_str1(string):\n",
    "    ans = 0\n",
    "    for chr in string:\n",
    "        ans += ord(chr)\n",
    "    return ans\n",
    "\n",
    "def hash_str2(string):\n",
    "    ans=int(ord(string[0]))\n",
    "    for ix in range(1, len(string)):\n",
    "        ans = ans ^ ord(string[ix]) \n",
    "    return int(bin(ans).split('b')[1])\n",
    "\n",
    "def hash_str3(string):\n",
    "    ans = 0\n",
    "    for chr in string:\n",
    "        ans = ans * 128 + ord(chr)\n",
    "    return ans\n",
    "\n",
    "def hash_str4(string):\n",
    "    random.seed(ord(string[0]))\n",
    "    return random.getrandbits(32)"
   ]
  },
  {
   "cell_type": "code",
   "execution_count": 3,
   "metadata": {
    "deletable": false,
    "nbgrader": {
     "checksum": "b39c1af2de8a4581d16a2d630fcaac74",
     "grade": true,
     "grade_id": "cell-1b6cc6df105c101f",
     "locked": false,
     "points": 0,
     "schema_version": 1,
     "solution": true
    }
   },
   "outputs": [],
   "source": [
    "import random\n",
    "import string\n",
    "\n",
    "\n",
    "def randomword(length):\n",
    "    return ''.join(random.choice(string.ascii_lowercase) for i in range(length))\n",
    "\n",
    "\n",
    "def empty_hash_table(N):\n",
    "    return [[] for n in range(N)]\n",
    "\n",
    "\n",
    "def add_to_hash_table(hash_table, item, hash_function):\n",
    "    N = len(hash_table)\n",
    "    idx = hash_function(item)   #initialize index\n",
    "    if idx >= N:                # if it is greater than N\n",
    "        idx = idx%N            \n",
    "    hash_table[idx].append(item)  # we append it whichis the requirement of the func\n",
    "    return hash_table\n",
    "\n",
    "\n",
    "def contains(hash_table, item, hash_function):\n",
    "    N = len(hash_table)\n",
    "    idx = hash_function(item)    # we use the similar principle as before\n",
    "    if idx >= N:\n",
    "        idx = idx%N\n",
    "    if item in hash_table[idx]:  # instead of adding however, the search returns true or false\n",
    "        return True\n",
    "    else:\n",
    "        return False\n",
    "    # return true if the item has already been stored in the hash_table\n",
    "\n",
    "\n",
    "def remove(hash_table, item, hash_function):\n",
    "    if not contains(hash_table, item, hash_function):\n",
    "        raise ValueError()\n",
    "    idx = hash_function(item)    # we initialize an index to help us search the KVP\n",
    "    hash_table[idx].pop(hash_table[idx].index(item))   # we can just pop the item or key we are looking for after calling it \n",
    "    return hash_table\n",
    "\n",
    "\n",
    "# Hash Functions\n",
    "def hash_str1(string):\n",
    "    ans = 0\n",
    "    for chr in string:\n",
    "        ans += ord(chr)\n",
    "    return ans\n",
    "\n",
    "def hash_str2(string):\n",
    "    ans=int(ord(string[0]))\n",
    "    for ix in range(1, len(string)):\n",
    "        ans = ans ^ ord(string[ix]) \n",
    "    return int(bin(ans).split('b')[1])\n",
    "\n",
    "def hash_str3(string):\n",
    "    ans = 0\n",
    "    for chr in string:\n",
    "        ans = ans * 128 + ord(chr)\n",
    "    return ans\n",
    "\n",
    "def hash_str4(string):\n",
    "    random.seed(ord(string[0]))\n",
    "    return random.getrandbits(32)"
   ]
  },
  {
   "cell_type": "markdown",
   "metadata": {
    "deletable": false,
    "editable": false,
    "nbgrader": {
     "checksum": "d323c68243f6d1fe79cbf5ad01ee85ae",
     "grade": false,
     "grade_id": "cell-66fb150dd2e509a7",
     "locked": true,
     "schema_version": 1,
     "solution": false
    }
   },
   "source": [
    "### Question 2 [time estimate: 2 minutes]\n",
    "\n",
    "Using the code, create 100,000 words of 10 characters each."
   ]
  },
  {
   "cell_type": "code",
   "execution_count": 4,
   "metadata": {
    "deletable": false,
    "nbgrader": {
     "checksum": "b9d2f1faad23eecd6f3691968bb4e455",
     "grade": true,
     "grade_id": "cell-234b1e83c871ddc7",
     "locked": false,
     "points": 0,
     "schema_version": 1,
     "solution": true
    }
   },
   "outputs": [],
   "source": [
    "words = []\n",
    "total_words = 100000\n",
    "for i in range (total_words):\n",
    "    words.append(randomword(10))"
   ]
  },
  {
   "cell_type": "markdown",
   "metadata": {
    "deletable": false,
    "editable": false,
    "nbgrader": {
     "checksum": "190e7fdc00fc311f5ff32a390fff1ca4",
     "grade": false,
     "grade_id": "cell-2fbadca52cec7230",
     "locked": true,
     "schema_version": 1,
     "solution": false
    }
   },
   "source": [
    "### Question 3 [time estimate: 2 minutes]\n",
    "\n",
    "Create four chained hash-tables with 5000 slots."
   ]
  },
  {
   "cell_type": "code",
   "execution_count": 5,
   "metadata": {
    "deletable": false,
    "nbgrader": {
     "checksum": "0d1473300ae336ceb57d11687ab3ec0a",
     "grade": true,
     "grade_id": "cell-2dabefc41493ec16",
     "locked": false,
     "points": 0,
     "schema_version": 1,
     "solution": true
    }
   },
   "outputs": [],
   "source": [
    "hash_t1 = empty_hash_table(5000)\n",
    "hash_t2 = empty_hash_table(5000)\n",
    "hash_t3 = empty_hash_table(5000)\n",
    "hash_t4 = empty_hash_table(5000)"
   ]
  },
  {
   "cell_type": "markdown",
   "metadata": {
    "deletable": false,
    "editable": false,
    "nbgrader": {
     "checksum": "c3d147917ae237a6dc75eddab48dbaa6",
     "grade": false,
     "grade_id": "cell-cc2e6d00330e691e",
     "locked": true,
     "schema_version": 1,
     "solution": false
    }
   },
   "source": [
    "### Question 4 [time estimate: 2 minutes]\n",
    "\n",
    "Store all the words in each chained hash table using each of the different hash functions."
   ]
  },
  {
   "cell_type": "code",
   "execution_count": 6,
   "metadata": {
    "deletable": false,
    "nbgrader": {
     "checksum": "af209dceb17bf5f8d9fadf0808855f79",
     "grade": true,
     "grade_id": "cell-8a08ade8d45590a7",
     "locked": false,
     "points": 0,
     "schema_version": 1,
     "solution": true
    }
   },
   "outputs": [],
   "source": [
    "for x in words:\n",
    "    hash_t1 = add_to_hash_table(hash_t1, x, hash_str1)\n",
    "    hash_t2 = add_to_hash_table(hash_t2, x, hash_str2)\n",
    "    hash_t3 = add_to_hash_table(hash_t3, x, hash_str3)\n",
    "    hash_t4 = add_to_hash_table(hash_t4, x, hash_str4)"
   ]
  },
  {
   "cell_type": "markdown",
   "metadata": {
    "deletable": false,
    "editable": false,
    "nbgrader": {
     "checksum": "858437d142a66b825fb0bebdb1c4d9fe",
     "grade": false,
     "grade_id": "cell-da2c8b42618fbde4",
     "locked": true,
     "schema_version": 1,
     "solution": false
    }
   },
   "source": [
    "### Question 5 [time estimate: 4 minutes]\n",
    "\n",
    "Measure the number of collisions for each hash function."
   ]
  },
  {
   "cell_type": "code",
   "execution_count": 7,
   "metadata": {
    "deletable": false,
    "nbgrader": {
     "checksum": "156f57bc1c6c1a3e10ca1804aa205099",
     "grade": true,
     "grade_id": "cell-a968f9e14a0416c4",
     "locked": false,
     "points": 0,
     "schema_version": 1,
     "solution": true
    }
   },
   "outputs": [
    {
     "name": "stdout",
     "output_type": "stream",
     "text": [
      "163\n",
      "16\n",
      "5000\n",
      "26\n"
     ]
    }
   ],
   "source": [
    "collision_t1 = 0\n",
    "collision_t2 = 0\n",
    "collision_t3 = 0\n",
    "collision_t4 = 0\n",
    "\n",
    "# table 1, add one to counter when there is more than 1 key for an index\n",
    "for i in range(len(hash_t1)):\n",
    "    if len(hash_t1[i]) > 1:\n",
    "        collision_t1 += 1\n",
    "        \n",
    "# table 2\n",
    "for i in range(len(hash_t2)):\n",
    "    if len(hash_t2[i]) > 1:\n",
    "        collision_t2 += 1\n",
    "\n",
    "# table 3\n",
    "for i in range(len(hash_t3)):\n",
    "    if len(hash_t3[i]) > 1:\n",
    "        collision_t3 += 1\n",
    "        \n",
    "# table 4        \n",
    "for i in range(len(hash_t4)):\n",
    "    if len(hash_t4[i]) > 1:\n",
    "        collision_t4 += 1\n",
    "        \n",
    "        \n",
    "print(collision_t1)\n",
    "print(collision_t2)\n",
    "print(collision_t3)\n",
    "print(collision_t4)"
   ]
  },
  {
   "cell_type": "markdown",
   "metadata": {
    "deletable": false,
    "editable": false,
    "nbgrader": {
     "checksum": "ef47cabb10897284ca375490003e6b3d",
     "grade": false,
     "grade_id": "cell-435ba1cfb2d80447",
     "locked": true,
     "schema_version": 1,
     "solution": false
    }
   },
   "source": [
    "### Question 6 [time estimate: 5 minutes]\n",
    "\n",
    "For each of the hash functions, how many elements are in a bucket on average (if it is not empty)?\n"
   ]
  },
  {
   "cell_type": "code",
   "execution_count": 8,
   "metadata": {
    "deletable": false,
    "nbgrader": {
     "checksum": "9f77d346c6e5ffbfb92ac0707c3c1d72",
     "grade": true,
     "grade_id": "cell-b4052afa2ee7c702",
     "locked": false,
     "points": 0,
     "schema_version": 1,
     "solution": true
    }
   },
   "outputs": [
    {
     "name": "stdout",
     "output_type": "stream",
     "text": [
      "613\n",
      "6250\n",
      "20\n",
      "3846\n"
     ]
    }
   ],
   "source": [
    "# the average, intuitively would just be the total collisions over the total number of words, we have total collisions already\n",
    "\n",
    "elem_1 = total_words/collision_t1\n",
    "elem_2 = total_words/collision_t2\n",
    "elem_3 = total_words/collision_t3\n",
    "elem_4 = total_words/collision_t4\n",
    "\n",
    "print(round(elem_1))\n",
    "print(round(elem_2))\n",
    "print(round(elem_3))\n",
    "print(round(elem_4))\n"
   ]
  },
  {
   "cell_type": "markdown",
   "metadata": {
    "deletable": false,
    "editable": false,
    "nbgrader": {
     "checksum": "aaeb9bd55b7a86f8bc8079cbb7f8bca4",
     "grade": false,
     "grade_id": "cell-b86aef4dd22c236c",
     "locked": true,
     "schema_version": 1,
     "solution": false
    }
   },
   "source": [
    "### Question 7 [time estimate: 5 minutes]\n",
    "\n",
    "Time how long it takes to find elements that are in each hash table.\n"
   ]
  },
  {
   "cell_type": "code",
   "execution_count": 9,
   "metadata": {
    "deletable": false,
    "nbgrader": {
     "checksum": "23927c46b8067f49ef10e9b4183f7680",
     "grade": true,
     "grade_id": "cell-0605f7dec7128414",
     "locked": false,
     "points": 0,
     "schema_version": 1,
     "solution": true
    }
   },
   "outputs": [
    {
     "name": "stdout",
     "output_type": "stream",
     "text": [
      "2.9979758262634277e-05\n",
      "0.00013620682716369628\n",
      "7.318201065063476e-06\n",
      "0.00010261783123016357\n"
     ]
    }
   ],
   "source": [
    "import time\n",
    "\n",
    "t1 = []\n",
    "t2 = []\n",
    "t3 = []\n",
    "t4 = []\n",
    "\n",
    "\n",
    "for i in words:\n",
    "    # table 1\n",
    "    start = time.time()\n",
    "    contains(hash_t1, i, hash_str1)\n",
    "    end = time.time()\n",
    "    t1.append(end - start)\n",
    "    \n",
    "    # table 2\n",
    "    start = time.time()\n",
    "    contains(hash_t2, i, hash_str2)\n",
    "    end = time.time()\n",
    "    t2.append(end - start)\n",
    "    \n",
    "    # table 3\n",
    "    start = time.time()\n",
    "    contains(hash_t3, i, hash_str3)\n",
    "    end = time.time()\n",
    "    t3.append(end - start)\n",
    "    \n",
    "    # table 4\n",
    "    start = time.time()\n",
    "    contains(hash_t4, i, hash_str4)\n",
    "    end = time.time()\n",
    "    t4.append(end - start)\n",
    "    \n",
    "\n",
    "print(sum(t1)/len(t1))   #hash table 1\n",
    "print(sum(t2)/len(t2))   # hash table 2\n",
    "print(sum(t3)/len(t3))   # hash table 3\n",
    "print(sum(t4)/len(t4))   # hash table 4\n"
   ]
  },
  {
   "cell_type": "markdown",
   "metadata": {
    "deletable": false,
    "editable": false,
    "nbgrader": {
     "checksum": "b051093ca9a2faf1658679380bf29033",
     "grade": false,
     "grade_id": "cell-75db2c2e62cec090",
     "locked": true,
     "schema_version": 1,
     "solution": false
    }
   },
   "source": [
    "### Question 8 [time estimate: 5 minutes]\n",
    "\n",
    "For each hash table, time how long it takes to find 10,000 elements that have not been stored."
   ]
  },
  {
   "cell_type": "code",
   "execution_count": 10,
   "metadata": {
    "deletable": false,
    "nbgrader": {
     "checksum": "99b2fa8c88000c2143cb00fac1f6aa5f",
     "grade": true,
     "grade_id": "cell-b846b45e1b98ae59",
     "locked": false,
     "points": 0,
     "schema_version": 1,
     "solution": true
    }
   },
   "outputs": [],
   "source": [
    "new_words = []\n",
    "for i in range(10000):\n",
    "    new_words2 = randomword(10)\n",
    "    while new_words2 in words:\n",
    "        new_words2 = randomword(10)\n",
    "    new_words.append(new_words2)"
   ]
  },
  {
   "cell_type": "code",
   "execution_count": 11,
   "metadata": {},
   "outputs": [
    {
     "name": "stdout",
     "output_type": "stream",
     "text": [
      "7.34879732131958e-05\n",
      "0.00031232476234436033\n",
      "8.565711975097656e-06\n",
      "0.000228204607963562\n"
     ]
    }
   ],
   "source": [
    "t1 = []\n",
    "t2 = []\n",
    "t3 = []\n",
    "t4 = []\n",
    "\n",
    "\n",
    "for i in new_words:\n",
    "    # table 1\n",
    "    start = time.time()\n",
    "    contains(hash_t1, i, hash_str1)\n",
    "    end = time.time()\n",
    "    t1.append(end - start)\n",
    "    \n",
    "    # table 2\n",
    "    start = time.time()\n",
    "    contains(hash_t2, i, hash_str2)\n",
    "    end = time.time()\n",
    "    t2.append(end - start)\n",
    "    \n",
    "    # table 3\n",
    "    start = time.time()\n",
    "    contains(hash_t3, i, hash_str3)\n",
    "    end = time.time()\n",
    "    t3.append(end - start)\n",
    "    \n",
    "    # table 4\n",
    "    start = time.time()\n",
    "    contains(hash_t4, i, hash_str4)\n",
    "    end = time.time()\n",
    "    t4.append(end - start)\n",
    "    \n",
    "\n",
    "print(sum(t1)/len(t1))   #hash table 1\n",
    "print(sum(t2)/len(t2))   # hash table 2\n",
    "print(sum(t3)/len(t3))   # hash table 3\n",
    "print(sum(t4)/len(t4))   # hash table 4\n"
   ]
  },
  {
   "cell_type": "code",
   "execution_count": null,
   "metadata": {},
   "outputs": [],
   "source": []
  }
 ],
 "metadata": {
  "kernelspec": {
   "display_name": "Python 3",
   "language": "python",
   "name": "python3"
  },
  "language_info": {
   "codemirror_mode": {
    "name": "ipython",
    "version": 3
   },
   "file_extension": ".py",
   "mimetype": "text/x-python",
   "name": "python",
   "nbconvert_exporter": "python",
   "pygments_lexer": "ipython3",
   "version": "3.7.0"
  }
 },
 "nbformat": 4,
 "nbformat_minor": 2
}
